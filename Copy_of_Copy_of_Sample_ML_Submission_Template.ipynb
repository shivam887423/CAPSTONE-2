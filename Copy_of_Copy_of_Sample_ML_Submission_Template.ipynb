{
  "nbformat": 4,
  "nbformat_minor": 0,
  "metadata": {
    "colab": {
      "provenance": [],
      "collapsed_sections": [
        "w6K7xa23Elo4",
        "kLW572S8pZyI",
        "dWbDXHzopZyI",
        "7wuGOrhz0itI",
        "578E2V7j08f6",
        "GMQiZwjn3iu7",
        "WVIkgGqN3qsr",
        "XkPnILGE3zoT",
        "Hlsf0x5436Go",
        "mT9DMSJo4nBL",
        "c49ITxTc407N",
        "OeJFEK0N496M",
        "9ExmJH0g5HBk",
        "cJNqERVU536h",
        "k5UmGsbsOxih",
        "T0VqWOYE6DLQ",
        "qBMux9mC6MCf",
        "nqoHp30x9hH9",
        "rMDnDkt2B6du",
        "yiiVWRdJDDil",
        "1UUpS68QDMuG",
        "kexQrXU-DjzY",
        "T5CmagL3EC8N",
        "BhH2vgX9EjGr",
        "qjKvONjwE8ra",
        "P1XJ9OREExlT",
        "VFOzZv6IFROw",
        "TIqpNgepFxVj",
        "VfCC591jGiD4",
        "OB4l2ZhMeS1U",
        "ArJBuiUVfxKd",
        "4qY1EAkEfxKe",
        "PiV4Ypx8fxKe",
        "TfvqoZmBfxKf",
        "dJ2tPlVmpsJ0",
        "JWYfwnehpsJ1",
        "-jK_YjpMpsJ2",
        "HAih1iBOpsJ2",
        "zVGeBEFhpsJ2",
        "bmKjuQ-FpsJ3",
        "Fze-IPXLpx6K",
        "7AN1z2sKpx6M",
        "9PIHJqyupx6M",
        "_-qAgymDpx6N",
        "Z-hykwinpx6N",
        "h_CCil-SKHpo",
        "cBFFvTBNJzUa",
        "HvGl1hHyA_VK",
        "EyNgTHvd2WFk",
        "KH5McJBi2d8v",
        "iW_Lq9qf2h6X",
        "-Kee-DAl2viO"
      ],
      "include_colab_link": true
    },
    "kernelspec": {
      "name": "python3",
      "display_name": "Python 3"
    },
    "language_info": {
      "name": "python"
    },
    "accelerator": "TPU",
    "gpuClass": "standard"
  },
  "cells": [
    {
      "cell_type": "markdown",
      "metadata": {
        "id": "view-in-github",
        "colab_type": "text"
      },
      "source": [
        "<a href=\"https://colab.research.google.com/github/shivam887423/CAPSTONE-2/blob/main/Copy_of_Copy_of_Sample_ML_Submission_Template.ipynb\" target=\"_parent\"><img src=\"https://colab.research.google.com/assets/colab-badge.svg\" alt=\"Open In Colab\"/></a>"
      ]
    },
    {
      "cell_type": "markdown",
      "source": [
        "# **Project Name**    - **Retail Sales Prediction**\n",
        "\n"
      ],
      "metadata": {
        "id": "vncDsAP0Gaoa"
      }
    },
    {
      "cell_type": "markdown",
      "source": [
        "##### **Project Type**    - Regression\n",
        "##### **Contribution**    - Individual\n"
      ],
      "metadata": {
        "id": "beRrZCGUAJYm"
      }
    },
    {
      "cell_type": "markdown",
      "source": [
        "# **Project Summary**"
      ],
      "metadata": {
        "id": "FJNUwmbgGyua"
      }
    },
    {
      "cell_type": "markdown",
      "source": [
        "**Rossman  sales Prediction data is a dataset that include ancient income facts for a retail save chain. The information consists of facts approximately the store, which includes Competitior’s element, type, vacation’s, as well as number of the customers and income transaction, which includes the date, time, and quantity of sale on each day.**\n",
        "\n",
        "**After understanding the information and getting variables, we first accumulated and smooth the information, and dealt with the null values. We carried out indepth EDA plotted extraordinary forms of graphs by means of isolating them into univariate, bivariate and multivariate categories and we accumulated many appropriate insights from it that helped us to make future decisions of ML model pipeline. In order to get normally distributed data we have applied various transformation techniques such as Logarithmic Transformation, Exponential Transformation, Square root Transformation and others as well and plotted the quantie-quantile plot for visualizing how far our data points are from the normal distributions. For other data on same scale we have used the sklearn library StandardScaler to scale the data.**\n",
        "\n",
        "**Then further on, the usage of feature engineering and facts preprocessing we have extracted features like PromoDuration and CompetitionDuration that helped us to get rid of some 4 capabilities that aren't without delay impacting our income. We additionally tried to get a few impacting capabilities via eliminating multicollinearity by lowering the diverse inflation aspect(VIF) of the unbiased variables.** \n",
        "\n",
        "**At ultimate we splited the dataset into schooling and checking out setsNext, we pick out diverse linear and non linear supervised system getting to know algorithms and use the training data to teach the model.Eventually, we evaluated the version's performance on the testing facts to peer how properly it could are expecting the income for the real time facts. For this mission we used many machine mastering algorithms, which include linear regression, decision bushes, random forests.** **### YHA SE CHANGE POINTS **\n",
        "\n",
        "**Universal, whilst constructing a machine getting to know model on Rossman income Prediction statistics we carried out combination of facts processing, device getting to know techniques, and version assessment competencies. It turned into a difficult undertaking and I have faced a few screw ups as well however with the proper method and knowledge,I was capable of create a model which can correctly are expecting sales upcomings weeks in advance.**"
      ],
      "metadata": {
        "id": "F6v_1wHtG2nS"
      }
    },
    {
      "cell_type": "markdown",
      "source": [
        "# **GitHub Link -**"
      ],
      "metadata": {
        "id": "w6K7xa23Elo4"
      }
    },
    {
      "cell_type": "markdown",
      "source": [
        "Provide your GitHub Link here."
      ],
      "metadata": {
        "id": "h1o69JH3Eqqn"
      }
    },
    {
      "cell_type": "markdown",
      "source": [
        "# **Problem Statement**\n"
      ],
      "metadata": {
        "id": "yQaldy8SH6Dl"
      }
    },
    {
      "cell_type": "markdown",
      "source": [
        "**Rossmann operates over 3,000 drug stores in 7 European countries. Currently, Rossmann store managers are tasked with predicting their daily sales for up to six weeks in advance. Store sales are influenced by many factors, including promotions, competition, school and state holidays, seasonality, and locality. With thousands of individual managers predicting sales based on their unique circumstances, the accuracy of results can be quite varied. You are provided with historical sales data for 1,115 Rossmann stores. The task is to forecast the \"Sales\" column for the test set. Note that some stores in the dataset were temporarily closed for refurbishment.**"
      ],
      "metadata": {
        "id": "DpeJGUA3kjGy"
      }
    },
    {
      "cell_type": "markdown",
      "source": [
        "# **General Guidelines** : -  "
      ],
      "metadata": {
        "id": "mDgbUHAGgjLW"
      }
    },
    {
      "cell_type": "markdown",
      "source": [
        "1.   Well-structured, formatted, and commented code is required. \n",
        "2.   Exception Handling, Production Grade Code & Deployment Ready Code will be a plus. Those students will be awarded some additional credits. \n",
        "     \n",
        "     The additional credits will have advantages over other students during Star Student selection.\n",
        "       \n",
        "             [ Note: - Deployment Ready Code is defined as, the whole .ipynb notebook should be executable in one go\n",
        "                       without a single error logged. ]\n",
        "\n",
        "3.   Each and every logic should have proper comments.\n",
        "4. You may add as many number of charts you want. Make Sure for each and every chart the following format should be answered.\n",
        "        \n",
        "\n",
        "```\n",
        "# Chart visualization code\n",
        "```\n",
        "            \n",
        "\n",
        "*   Why did you pick the specific chart?\n",
        "*   What is/are the insight(s) found from the chart?\n",
        "* Will the gained insights help creating a positive business impact? \n",
        "Are there any insights that lead to negative growth? Justify with specific reason.\n",
        "\n",
        "5. You have to create at least 15 logical & meaningful charts having important insights.\n",
        "\n",
        "\n",
        "[ Hints : - Do the Vizualization in  a structured way while following \"UBM\" Rule. \n",
        "\n",
        "U - Univariate Analysis,\n",
        "\n",
        "B - Bivariate Analysis (Numerical - Categorical, Numerical - Numerical, Categorical - Categorical)\n",
        "\n",
        "M - Multivariate Analysis\n",
        " ]\n",
        "\n",
        "\n",
        "\n",
        "\n",
        "\n",
        "6. You may add more ml algorithms for model creation. Make sure for each and every algorithm, the following format should be answered.\n",
        "\n",
        "\n",
        "*   Explain the ML Model used and it's performance using Evaluation metric Score Chart.\n",
        "\n",
        "\n",
        "*   Cross- Validation & Hyperparameter Tuning\n",
        "\n",
        "*   Have you seen any improvement? Note down the improvement with updates Evaluation metric Score Chart.\n",
        "\n",
        "*   Explain each evaluation metric's indication towards business and the business impact pf the ML model used.\n",
        "\n",
        "\n",
        "\n",
        "\n",
        "\n",
        "\n",
        "\n",
        "\n",
        "\n",
        "\n",
        "\n",
        "\n",
        "\n",
        "\n",
        "\n",
        "\n",
        "\n",
        "\n"
      ],
      "metadata": {
        "id": "ZrxVaUj-hHfC"
      }
    },
    {
      "cell_type": "markdown",
      "source": [
        "# ***Let's Begin !***"
      ],
      "metadata": {
        "id": "O_i_v8NEhb9l"
      }
    },
    {
      "cell_type": "markdown",
      "source": [
        "## ***1. Know Your Data***"
      ],
      "metadata": {
        "id": "HhfV-JJviCcP"
      }
    },
    {
      "cell_type": "markdown",
      "source": [
        "### Import Libraries"
      ],
      "metadata": {
        "id": "Y3lxredqlCYt"
      }
    },
    {
      "cell_type": "code",
      "source": [
        "# Import Libraries\n",
        "# Import Libraries\n",
        "import numpy as np\n",
        "import pandas as pd\n",
        "import matplotlib.pyplot as plt\n",
        "%matplotlib inline\n",
        "import seaborn as sns\n",
        "from datetime import datetime\n",
        "\n",
        "# Adding this to ignore future warnings\n",
        "import warnings\n",
        "warnings.filterwarnings(\"ignore\")\n",
        "\n",
        "# importing missingo library which helps us to visualize the missing values\n",
        "import missingno as msnull\n",
        "\n",
        "# importing linear rigression\n",
        "from sklearn.linear_model import LinearRegression\n",
        "from sklearn.pipeline import Pipeline\n",
        "from sklearn.tree import DecisionTreeRegressor\n",
        "from sklearn.metrics import r2_score as r2, mean_squared_error as mse"
      ],
      "metadata": {
        "id": "M8Vqi-pPk-HR"
      },
      "execution_count": 200,
      "outputs": []
    },
    {
      "cell_type": "markdown",
      "source": [
        "### Dataset Loading"
      ],
      "metadata": {
        "id": "3RnN4peoiCZX"
      }
    },
    {
      "cell_type": "code",
      "source": [
        "# mounting the drive\n",
        "from google.colab import drive\n",
        "drive.mount('/content/drive')"
      ],
      "metadata": {
        "id": "4CkvbW_SlZ_R",
        "colab": {
          "base_uri": "https://localhost:8080/"
        },
        "outputId": "49fd908e-35cc-4e85-cf2d-accab69c785e"
      },
      "execution_count": 201,
      "outputs": [
        {
          "output_type": "stream",
          "name": "stdout",
          "text": [
            "Drive already mounted at /content/drive; to attempt to forcibly remount, call drive.mount(\"/content/drive\", force_remount=True).\n"
          ]
        }
      ]
    },
    {
      "cell_type": "code",
      "source": [
        "# Load Dataset\n",
        "data_rossmann= pd.read_csv(\"/content/Rossmann Stores Data.csv\")       #Rossman Dataset\n",
        "data_store= pd.read_csv(\"/content/store.csv\")                         #Store Dataset"
      ],
      "metadata": {
        "id": "UnajbD-AtsCA"
      },
      "execution_count": 202,
      "outputs": []
    },
    {
      "cell_type": "markdown",
      "source": [
        "### Dataset First View"
      ],
      "metadata": {
        "id": "x71ZqKXriCWQ"
      }
    },
    {
      "cell_type": "code",
      "source": [
        "# Dataset First Look for rossmann dataset\n",
        "data_rossmann.head()\n"
      ],
      "metadata": {
        "id": "LWNFOSvLl09H",
        "colab": {
          "base_uri": "https://localhost:8080/"
        },
        "outputId": "08e69276-7837-4a59-c76d-71db8dfc83a0"
      },
      "execution_count": 203,
      "outputs": [
        {
          "output_type": "execute_result",
          "data": {
            "text/plain": [
              "   Store  DayOfWeek        Date    Sales  Customers  Open  Promo StateHoliday  \\\n",
              "0      1          5  2015-07-31   5263.0      555.0   1.0    1.0            0   \n",
              "1      2          5  2015-07-31   6064.0      625.0   1.0    1.0            0   \n",
              "2      3          5  2015-07-31   8314.0      821.0   1.0    1.0            0   \n",
              "3      4          5  2015-07-31  13995.0     1498.0   1.0    1.0            0   \n",
              "4      5          5  2015-07-31   4822.0      559.0   1.0    1.0            0   \n",
              "\n",
              "   SchoolHoliday  \n",
              "0            1.0  \n",
              "1            1.0  \n",
              "2            1.0  \n",
              "3            1.0  \n",
              "4            1.0  "
            ],
            "text/html": [
              "\n",
              "  <div id=\"df-10bb814c-1db5-41d4-953f-1659917b48c0\">\n",
              "    <div class=\"colab-df-container\">\n",
              "      <div>\n",
              "<style scoped>\n",
              "    .dataframe tbody tr th:only-of-type {\n",
              "        vertical-align: middle;\n",
              "    }\n",
              "\n",
              "    .dataframe tbody tr th {\n",
              "        vertical-align: top;\n",
              "    }\n",
              "\n",
              "    .dataframe thead th {\n",
              "        text-align: right;\n",
              "    }\n",
              "</style>\n",
              "<table border=\"1\" class=\"dataframe\">\n",
              "  <thead>\n",
              "    <tr style=\"text-align: right;\">\n",
              "      <th></th>\n",
              "      <th>Store</th>\n",
              "      <th>DayOfWeek</th>\n",
              "      <th>Date</th>\n",
              "      <th>Sales</th>\n",
              "      <th>Customers</th>\n",
              "      <th>Open</th>\n",
              "      <th>Promo</th>\n",
              "      <th>StateHoliday</th>\n",
              "      <th>SchoolHoliday</th>\n",
              "    </tr>\n",
              "  </thead>\n",
              "  <tbody>\n",
              "    <tr>\n",
              "      <th>0</th>\n",
              "      <td>1</td>\n",
              "      <td>5</td>\n",
              "      <td>2015-07-31</td>\n",
              "      <td>5263.0</td>\n",
              "      <td>555.0</td>\n",
              "      <td>1.0</td>\n",
              "      <td>1.0</td>\n",
              "      <td>0</td>\n",
              "      <td>1.0</td>\n",
              "    </tr>\n",
              "    <tr>\n",
              "      <th>1</th>\n",
              "      <td>2</td>\n",
              "      <td>5</td>\n",
              "      <td>2015-07-31</td>\n",
              "      <td>6064.0</td>\n",
              "      <td>625.0</td>\n",
              "      <td>1.0</td>\n",
              "      <td>1.0</td>\n",
              "      <td>0</td>\n",
              "      <td>1.0</td>\n",
              "    </tr>\n",
              "    <tr>\n",
              "      <th>2</th>\n",
              "      <td>3</td>\n",
              "      <td>5</td>\n",
              "      <td>2015-07-31</td>\n",
              "      <td>8314.0</td>\n",
              "      <td>821.0</td>\n",
              "      <td>1.0</td>\n",
              "      <td>1.0</td>\n",
              "      <td>0</td>\n",
              "      <td>1.0</td>\n",
              "    </tr>\n",
              "    <tr>\n",
              "      <th>3</th>\n",
              "      <td>4</td>\n",
              "      <td>5</td>\n",
              "      <td>2015-07-31</td>\n",
              "      <td>13995.0</td>\n",
              "      <td>1498.0</td>\n",
              "      <td>1.0</td>\n",
              "      <td>1.0</td>\n",
              "      <td>0</td>\n",
              "      <td>1.0</td>\n",
              "    </tr>\n",
              "    <tr>\n",
              "      <th>4</th>\n",
              "      <td>5</td>\n",
              "      <td>5</td>\n",
              "      <td>2015-07-31</td>\n",
              "      <td>4822.0</td>\n",
              "      <td>559.0</td>\n",
              "      <td>1.0</td>\n",
              "      <td>1.0</td>\n",
              "      <td>0</td>\n",
              "      <td>1.0</td>\n",
              "    </tr>\n",
              "  </tbody>\n",
              "</table>\n",
              "</div>\n",
              "      <button class=\"colab-df-convert\" onclick=\"convertToInteractive('df-10bb814c-1db5-41d4-953f-1659917b48c0')\"\n",
              "              title=\"Convert this dataframe to an interactive table.\"\n",
              "              style=\"display:none;\">\n",
              "        \n",
              "  <svg xmlns=\"http://www.w3.org/2000/svg\" height=\"24px\"viewBox=\"0 0 24 24\"\n",
              "       width=\"24px\">\n",
              "    <path d=\"M0 0h24v24H0V0z\" fill=\"none\"/>\n",
              "    <path d=\"M18.56 5.44l.94 2.06.94-2.06 2.06-.94-2.06-.94-.94-2.06-.94 2.06-2.06.94zm-11 1L8.5 8.5l.94-2.06 2.06-.94-2.06-.94L8.5 2.5l-.94 2.06-2.06.94zm10 10l.94 2.06.94-2.06 2.06-.94-2.06-.94-.94-2.06-.94 2.06-2.06.94z\"/><path d=\"M17.41 7.96l-1.37-1.37c-.4-.4-.92-.59-1.43-.59-.52 0-1.04.2-1.43.59L10.3 9.45l-7.72 7.72c-.78.78-.78 2.05 0 2.83L4 21.41c.39.39.9.59 1.41.59.51 0 1.02-.2 1.41-.59l7.78-7.78 2.81-2.81c.8-.78.8-2.07 0-2.86zM5.41 20L4 18.59l7.72-7.72 1.47 1.35L5.41 20z\"/>\n",
              "  </svg>\n",
              "      </button>\n",
              "      \n",
              "  <style>\n",
              "    .colab-df-container {\n",
              "      display:flex;\n",
              "      flex-wrap:wrap;\n",
              "      gap: 12px;\n",
              "    }\n",
              "\n",
              "    .colab-df-convert {\n",
              "      background-color: #E8F0FE;\n",
              "      border: none;\n",
              "      border-radius: 50%;\n",
              "      cursor: pointer;\n",
              "      display: none;\n",
              "      fill: #1967D2;\n",
              "      height: 32px;\n",
              "      padding: 0 0 0 0;\n",
              "      width: 32px;\n",
              "    }\n",
              "\n",
              "    .colab-df-convert:hover {\n",
              "      background-color: #E2EBFA;\n",
              "      box-shadow: 0px 1px 2px rgba(60, 64, 67, 0.3), 0px 1px 3px 1px rgba(60, 64, 67, 0.15);\n",
              "      fill: #174EA6;\n",
              "    }\n",
              "\n",
              "    [theme=dark] .colab-df-convert {\n",
              "      background-color: #3B4455;\n",
              "      fill: #D2E3FC;\n",
              "    }\n",
              "\n",
              "    [theme=dark] .colab-df-convert:hover {\n",
              "      background-color: #434B5C;\n",
              "      box-shadow: 0px 1px 3px 1px rgba(0, 0, 0, 0.15);\n",
              "      filter: drop-shadow(0px 1px 2px rgba(0, 0, 0, 0.3));\n",
              "      fill: #FFFFFF;\n",
              "    }\n",
              "  </style>\n",
              "\n",
              "      <script>\n",
              "        const buttonEl =\n",
              "          document.querySelector('#df-10bb814c-1db5-41d4-953f-1659917b48c0 button.colab-df-convert');\n",
              "        buttonEl.style.display =\n",
              "          google.colab.kernel.accessAllowed ? 'block' : 'none';\n",
              "\n",
              "        async function convertToInteractive(key) {\n",
              "          const element = document.querySelector('#df-10bb814c-1db5-41d4-953f-1659917b48c0');\n",
              "          const dataTable =\n",
              "            await google.colab.kernel.invokeFunction('convertToInteractive',\n",
              "                                                     [key], {});\n",
              "          if (!dataTable) return;\n",
              "\n",
              "          const docLinkHtml = 'Like what you see? Visit the ' +\n",
              "            '<a target=\"_blank\" href=https://colab.research.google.com/notebooks/data_table.ipynb>data table notebook</a>'\n",
              "            + ' to learn more about interactive tables.';\n",
              "          element.innerHTML = '';\n",
              "          dataTable['output_type'] = 'display_data';\n",
              "          await google.colab.output.renderOutput(dataTable, element);\n",
              "          const docLink = document.createElement('div');\n",
              "          docLink.innerHTML = docLinkHtml;\n",
              "          element.appendChild(docLink);\n",
              "        }\n",
              "      </script>\n",
              "    </div>\n",
              "  </div>\n",
              "  "
            ]
          },
          "metadata": {},
          "execution_count": 203
        }
      ]
    },
    {
      "cell_type": "code",
      "source": [
        "# Dataset First Look for store dataset\n",
        "data_store.head()"
      ],
      "metadata": {
        "id": "AFVghdamupzV",
        "colab": {
          "base_uri": "https://localhost:8080/"
        },
        "outputId": "e191ac02-40ba-4d69-b503-3af11d48c588"
      },
      "execution_count": 204,
      "outputs": [
        {
          "output_type": "execute_result",
          "data": {
            "text/plain": [
              "   Store StoreType Assortment  CompetitionDistance  CompetitionOpenSinceMonth  \\\n",
              "0      1         c          a               1270.0                        9.0   \n",
              "1      2         a          a                570.0                       11.0   \n",
              "2      3         a          a              14130.0                       12.0   \n",
              "3      4         c          c                620.0                        9.0   \n",
              "4      5         a          a              29910.0                        4.0   \n",
              "\n",
              "   CompetitionOpenSinceYear  Promo2  Promo2SinceWeek  Promo2SinceYear  \\\n",
              "0                    2008.0       0              NaN              NaN   \n",
              "1                    2007.0       1             13.0           2010.0   \n",
              "2                    2006.0       1             14.0           2011.0   \n",
              "3                    2009.0       0              NaN              NaN   \n",
              "4                    2015.0       0              NaN              NaN   \n",
              "\n",
              "     PromoInterval  \n",
              "0              NaN  \n",
              "1  Jan,Apr,Jul,Oct  \n",
              "2  Jan,Apr,Jul,Oct  \n",
              "3              NaN  \n",
              "4              NaN  "
            ],
            "text/html": [
              "\n",
              "  <div id=\"df-c67927b7-540a-4cc6-91a5-67a2239d50aa\">\n",
              "    <div class=\"colab-df-container\">\n",
              "      <div>\n",
              "<style scoped>\n",
              "    .dataframe tbody tr th:only-of-type {\n",
              "        vertical-align: middle;\n",
              "    }\n",
              "\n",
              "    .dataframe tbody tr th {\n",
              "        vertical-align: top;\n",
              "    }\n",
              "\n",
              "    .dataframe thead th {\n",
              "        text-align: right;\n",
              "    }\n",
              "</style>\n",
              "<table border=\"1\" class=\"dataframe\">\n",
              "  <thead>\n",
              "    <tr style=\"text-align: right;\">\n",
              "      <th></th>\n",
              "      <th>Store</th>\n",
              "      <th>StoreType</th>\n",
              "      <th>Assortment</th>\n",
              "      <th>CompetitionDistance</th>\n",
              "      <th>CompetitionOpenSinceMonth</th>\n",
              "      <th>CompetitionOpenSinceYear</th>\n",
              "      <th>Promo2</th>\n",
              "      <th>Promo2SinceWeek</th>\n",
              "      <th>Promo2SinceYear</th>\n",
              "      <th>PromoInterval</th>\n",
              "    </tr>\n",
              "  </thead>\n",
              "  <tbody>\n",
              "    <tr>\n",
              "      <th>0</th>\n",
              "      <td>1</td>\n",
              "      <td>c</td>\n",
              "      <td>a</td>\n",
              "      <td>1270.0</td>\n",
              "      <td>9.0</td>\n",
              "      <td>2008.0</td>\n",
              "      <td>0</td>\n",
              "      <td>NaN</td>\n",
              "      <td>NaN</td>\n",
              "      <td>NaN</td>\n",
              "    </tr>\n",
              "    <tr>\n",
              "      <th>1</th>\n",
              "      <td>2</td>\n",
              "      <td>a</td>\n",
              "      <td>a</td>\n",
              "      <td>570.0</td>\n",
              "      <td>11.0</td>\n",
              "      <td>2007.0</td>\n",
              "      <td>1</td>\n",
              "      <td>13.0</td>\n",
              "      <td>2010.0</td>\n",
              "      <td>Jan,Apr,Jul,Oct</td>\n",
              "    </tr>\n",
              "    <tr>\n",
              "      <th>2</th>\n",
              "      <td>3</td>\n",
              "      <td>a</td>\n",
              "      <td>a</td>\n",
              "      <td>14130.0</td>\n",
              "      <td>12.0</td>\n",
              "      <td>2006.0</td>\n",
              "      <td>1</td>\n",
              "      <td>14.0</td>\n",
              "      <td>2011.0</td>\n",
              "      <td>Jan,Apr,Jul,Oct</td>\n",
              "    </tr>\n",
              "    <tr>\n",
              "      <th>3</th>\n",
              "      <td>4</td>\n",
              "      <td>c</td>\n",
              "      <td>c</td>\n",
              "      <td>620.0</td>\n",
              "      <td>9.0</td>\n",
              "      <td>2009.0</td>\n",
              "      <td>0</td>\n",
              "      <td>NaN</td>\n",
              "      <td>NaN</td>\n",
              "      <td>NaN</td>\n",
              "    </tr>\n",
              "    <tr>\n",
              "      <th>4</th>\n",
              "      <td>5</td>\n",
              "      <td>a</td>\n",
              "      <td>a</td>\n",
              "      <td>29910.0</td>\n",
              "      <td>4.0</td>\n",
              "      <td>2015.0</td>\n",
              "      <td>0</td>\n",
              "      <td>NaN</td>\n",
              "      <td>NaN</td>\n",
              "      <td>NaN</td>\n",
              "    </tr>\n",
              "  </tbody>\n",
              "</table>\n",
              "</div>\n",
              "      <button class=\"colab-df-convert\" onclick=\"convertToInteractive('df-c67927b7-540a-4cc6-91a5-67a2239d50aa')\"\n",
              "              title=\"Convert this dataframe to an interactive table.\"\n",
              "              style=\"display:none;\">\n",
              "        \n",
              "  <svg xmlns=\"http://www.w3.org/2000/svg\" height=\"24px\"viewBox=\"0 0 24 24\"\n",
              "       width=\"24px\">\n",
              "    <path d=\"M0 0h24v24H0V0z\" fill=\"none\"/>\n",
              "    <path d=\"M18.56 5.44l.94 2.06.94-2.06 2.06-.94-2.06-.94-.94-2.06-.94 2.06-2.06.94zm-11 1L8.5 8.5l.94-2.06 2.06-.94-2.06-.94L8.5 2.5l-.94 2.06-2.06.94zm10 10l.94 2.06.94-2.06 2.06-.94-2.06-.94-.94-2.06-.94 2.06-2.06.94z\"/><path d=\"M17.41 7.96l-1.37-1.37c-.4-.4-.92-.59-1.43-.59-.52 0-1.04.2-1.43.59L10.3 9.45l-7.72 7.72c-.78.78-.78 2.05 0 2.83L4 21.41c.39.39.9.59 1.41.59.51 0 1.02-.2 1.41-.59l7.78-7.78 2.81-2.81c.8-.78.8-2.07 0-2.86zM5.41 20L4 18.59l7.72-7.72 1.47 1.35L5.41 20z\"/>\n",
              "  </svg>\n",
              "      </button>\n",
              "      \n",
              "  <style>\n",
              "    .colab-df-container {\n",
              "      display:flex;\n",
              "      flex-wrap:wrap;\n",
              "      gap: 12px;\n",
              "    }\n",
              "\n",
              "    .colab-df-convert {\n",
              "      background-color: #E8F0FE;\n",
              "      border: none;\n",
              "      border-radius: 50%;\n",
              "      cursor: pointer;\n",
              "      display: none;\n",
              "      fill: #1967D2;\n",
              "      height: 32px;\n",
              "      padding: 0 0 0 0;\n",
              "      width: 32px;\n",
              "    }\n",
              "\n",
              "    .colab-df-convert:hover {\n",
              "      background-color: #E2EBFA;\n",
              "      box-shadow: 0px 1px 2px rgba(60, 64, 67, 0.3), 0px 1px 3px 1px rgba(60, 64, 67, 0.15);\n",
              "      fill: #174EA6;\n",
              "    }\n",
              "\n",
              "    [theme=dark] .colab-df-convert {\n",
              "      background-color: #3B4455;\n",
              "      fill: #D2E3FC;\n",
              "    }\n",
              "\n",
              "    [theme=dark] .colab-df-convert:hover {\n",
              "      background-color: #434B5C;\n",
              "      box-shadow: 0px 1px 3px 1px rgba(0, 0, 0, 0.15);\n",
              "      filter: drop-shadow(0px 1px 2px rgba(0, 0, 0, 0.3));\n",
              "      fill: #FFFFFF;\n",
              "    }\n",
              "  </style>\n",
              "\n",
              "      <script>\n",
              "        const buttonEl =\n",
              "          document.querySelector('#df-c67927b7-540a-4cc6-91a5-67a2239d50aa button.colab-df-convert');\n",
              "        buttonEl.style.display =\n",
              "          google.colab.kernel.accessAllowed ? 'block' : 'none';\n",
              "\n",
              "        async function convertToInteractive(key) {\n",
              "          const element = document.querySelector('#df-c67927b7-540a-4cc6-91a5-67a2239d50aa');\n",
              "          const dataTable =\n",
              "            await google.colab.kernel.invokeFunction('convertToInteractive',\n",
              "                                                     [key], {});\n",
              "          if (!dataTable) return;\n",
              "\n",
              "          const docLinkHtml = 'Like what you see? Visit the ' +\n",
              "            '<a target=\"_blank\" href=https://colab.research.google.com/notebooks/data_table.ipynb>data table notebook</a>'\n",
              "            + ' to learn more about interactive tables.';\n",
              "          element.innerHTML = '';\n",
              "          dataTable['output_type'] = 'display_data';\n",
              "          await google.colab.output.renderOutput(dataTable, element);\n",
              "          const docLink = document.createElement('div');\n",
              "          docLink.innerHTML = docLinkHtml;\n",
              "          element.appendChild(docLink);\n",
              "        }\n",
              "      </script>\n",
              "    </div>\n",
              "  </div>\n",
              "  "
            ]
          },
          "metadata": {},
          "execution_count": 204
        }
      ]
    },
    {
      "cell_type": "markdown",
      "source": [
        "### Dataset last View"
      ],
      "metadata": {
        "id": "IYz6xMjCHjq6"
      }
    },
    {
      "cell_type": "code",
      "source": [
        "# Dataset Last Look for rossmann dataset\n",
        "data_rossmann.tail()"
      ],
      "metadata": {
        "id": "5foLADKZHyu1",
        "colab": {
          "base_uri": "https://localhost:8080/"
        },
        "outputId": "cf084ed0-410b-4ef1-a4e4-5d56f3ae30a6"
      },
      "execution_count": 205,
      "outputs": [
        {
          "output_type": "execute_result",
          "data": {
            "text/plain": [
              "        Store  DayOfWeek        Date   Sales  Customers  Open  Promo  \\\n",
              "700577     28          5  2013-10-11  6142.0      663.0   1.0    1.0   \n",
              "700578     29          5  2013-10-11  7003.0      625.0   1.0    1.0   \n",
              "700579     30          5  2013-10-11  5003.0      758.0   1.0    1.0   \n",
              "700580     31          5  2013-10-11  6078.0      616.0   1.0    1.0   \n",
              "700581     32          5           2     NaN        NaN   NaN    NaN   \n",
              "\n",
              "       StateHoliday  SchoolHoliday  \n",
              "700577            0            0.0  \n",
              "700578            0            0.0  \n",
              "700579            0            0.0  \n",
              "700580            0            1.0  \n",
              "700581          NaN            NaN  "
            ],
            "text/html": [
              "\n",
              "  <div id=\"df-54126299-3347-4e91-b448-b7385fdde05e\">\n",
              "    <div class=\"colab-df-container\">\n",
              "      <div>\n",
              "<style scoped>\n",
              "    .dataframe tbody tr th:only-of-type {\n",
              "        vertical-align: middle;\n",
              "    }\n",
              "\n",
              "    .dataframe tbody tr th {\n",
              "        vertical-align: top;\n",
              "    }\n",
              "\n",
              "    .dataframe thead th {\n",
              "        text-align: right;\n",
              "    }\n",
              "</style>\n",
              "<table border=\"1\" class=\"dataframe\">\n",
              "  <thead>\n",
              "    <tr style=\"text-align: right;\">\n",
              "      <th></th>\n",
              "      <th>Store</th>\n",
              "      <th>DayOfWeek</th>\n",
              "      <th>Date</th>\n",
              "      <th>Sales</th>\n",
              "      <th>Customers</th>\n",
              "      <th>Open</th>\n",
              "      <th>Promo</th>\n",
              "      <th>StateHoliday</th>\n",
              "      <th>SchoolHoliday</th>\n",
              "    </tr>\n",
              "  </thead>\n",
              "  <tbody>\n",
              "    <tr>\n",
              "      <th>700577</th>\n",
              "      <td>28</td>\n",
              "      <td>5</td>\n",
              "      <td>2013-10-11</td>\n",
              "      <td>6142.0</td>\n",
              "      <td>663.0</td>\n",
              "      <td>1.0</td>\n",
              "      <td>1.0</td>\n",
              "      <td>0</td>\n",
              "      <td>0.0</td>\n",
              "    </tr>\n",
              "    <tr>\n",
              "      <th>700578</th>\n",
              "      <td>29</td>\n",
              "      <td>5</td>\n",
              "      <td>2013-10-11</td>\n",
              "      <td>7003.0</td>\n",
              "      <td>625.0</td>\n",
              "      <td>1.0</td>\n",
              "      <td>1.0</td>\n",
              "      <td>0</td>\n",
              "      <td>0.0</td>\n",
              "    </tr>\n",
              "    <tr>\n",
              "      <th>700579</th>\n",
              "      <td>30</td>\n",
              "      <td>5</td>\n",
              "      <td>2013-10-11</td>\n",
              "      <td>5003.0</td>\n",
              "      <td>758.0</td>\n",
              "      <td>1.0</td>\n",
              "      <td>1.0</td>\n",
              "      <td>0</td>\n",
              "      <td>0.0</td>\n",
              "    </tr>\n",
              "    <tr>\n",
              "      <th>700580</th>\n",
              "      <td>31</td>\n",
              "      <td>5</td>\n",
              "      <td>2013-10-11</td>\n",
              "      <td>6078.0</td>\n",
              "      <td>616.0</td>\n",
              "      <td>1.0</td>\n",
              "      <td>1.0</td>\n",
              "      <td>0</td>\n",
              "      <td>1.0</td>\n",
              "    </tr>\n",
              "    <tr>\n",
              "      <th>700581</th>\n",
              "      <td>32</td>\n",
              "      <td>5</td>\n",
              "      <td>2</td>\n",
              "      <td>NaN</td>\n",
              "      <td>NaN</td>\n",
              "      <td>NaN</td>\n",
              "      <td>NaN</td>\n",
              "      <td>NaN</td>\n",
              "      <td>NaN</td>\n",
              "    </tr>\n",
              "  </tbody>\n",
              "</table>\n",
              "</div>\n",
              "      <button class=\"colab-df-convert\" onclick=\"convertToInteractive('df-54126299-3347-4e91-b448-b7385fdde05e')\"\n",
              "              title=\"Convert this dataframe to an interactive table.\"\n",
              "              style=\"display:none;\">\n",
              "        \n",
              "  <svg xmlns=\"http://www.w3.org/2000/svg\" height=\"24px\"viewBox=\"0 0 24 24\"\n",
              "       width=\"24px\">\n",
              "    <path d=\"M0 0h24v24H0V0z\" fill=\"none\"/>\n",
              "    <path d=\"M18.56 5.44l.94 2.06.94-2.06 2.06-.94-2.06-.94-.94-2.06-.94 2.06-2.06.94zm-11 1L8.5 8.5l.94-2.06 2.06-.94-2.06-.94L8.5 2.5l-.94 2.06-2.06.94zm10 10l.94 2.06.94-2.06 2.06-.94-2.06-.94-.94-2.06-.94 2.06-2.06.94z\"/><path d=\"M17.41 7.96l-1.37-1.37c-.4-.4-.92-.59-1.43-.59-.52 0-1.04.2-1.43.59L10.3 9.45l-7.72 7.72c-.78.78-.78 2.05 0 2.83L4 21.41c.39.39.9.59 1.41.59.51 0 1.02-.2 1.41-.59l7.78-7.78 2.81-2.81c.8-.78.8-2.07 0-2.86zM5.41 20L4 18.59l7.72-7.72 1.47 1.35L5.41 20z\"/>\n",
              "  </svg>\n",
              "      </button>\n",
              "      \n",
              "  <style>\n",
              "    .colab-df-container {\n",
              "      display:flex;\n",
              "      flex-wrap:wrap;\n",
              "      gap: 12px;\n",
              "    }\n",
              "\n",
              "    .colab-df-convert {\n",
              "      background-color: #E8F0FE;\n",
              "      border: none;\n",
              "      border-radius: 50%;\n",
              "      cursor: pointer;\n",
              "      display: none;\n",
              "      fill: #1967D2;\n",
              "      height: 32px;\n",
              "      padding: 0 0 0 0;\n",
              "      width: 32px;\n",
              "    }\n",
              "\n",
              "    .colab-df-convert:hover {\n",
              "      background-color: #E2EBFA;\n",
              "      box-shadow: 0px 1px 2px rgba(60, 64, 67, 0.3), 0px 1px 3px 1px rgba(60, 64, 67, 0.15);\n",
              "      fill: #174EA6;\n",
              "    }\n",
              "\n",
              "    [theme=dark] .colab-df-convert {\n",
              "      background-color: #3B4455;\n",
              "      fill: #D2E3FC;\n",
              "    }\n",
              "\n",
              "    [theme=dark] .colab-df-convert:hover {\n",
              "      background-color: #434B5C;\n",
              "      box-shadow: 0px 1px 3px 1px rgba(0, 0, 0, 0.15);\n",
              "      filter: drop-shadow(0px 1px 2px rgba(0, 0, 0, 0.3));\n",
              "      fill: #FFFFFF;\n",
              "    }\n",
              "  </style>\n",
              "\n",
              "      <script>\n",
              "        const buttonEl =\n",
              "          document.querySelector('#df-54126299-3347-4e91-b448-b7385fdde05e button.colab-df-convert');\n",
              "        buttonEl.style.display =\n",
              "          google.colab.kernel.accessAllowed ? 'block' : 'none';\n",
              "\n",
              "        async function convertToInteractive(key) {\n",
              "          const element = document.querySelector('#df-54126299-3347-4e91-b448-b7385fdde05e');\n",
              "          const dataTable =\n",
              "            await google.colab.kernel.invokeFunction('convertToInteractive',\n",
              "                                                     [key], {});\n",
              "          if (!dataTable) return;\n",
              "\n",
              "          const docLinkHtml = 'Like what you see? Visit the ' +\n",
              "            '<a target=\"_blank\" href=https://colab.research.google.com/notebooks/data_table.ipynb>data table notebook</a>'\n",
              "            + ' to learn more about interactive tables.';\n",
              "          element.innerHTML = '';\n",
              "          dataTable['output_type'] = 'display_data';\n",
              "          await google.colab.output.renderOutput(dataTable, element);\n",
              "          const docLink = document.createElement('div');\n",
              "          docLink.innerHTML = docLinkHtml;\n",
              "          element.appendChild(docLink);\n",
              "        }\n",
              "      </script>\n",
              "    </div>\n",
              "  </div>\n",
              "  "
            ]
          },
          "metadata": {},
          "execution_count": 205
        }
      ]
    },
    {
      "cell_type": "code",
      "source": [
        "# Dataset Last Look for store dataset\n",
        "data_store.tail()"
      ],
      "metadata": {
        "id": "pcgQhnfxH67c",
        "colab": {
          "base_uri": "https://localhost:8080/"
        },
        "outputId": "6426e214-f07f-4e93-9453-d167735251ba"
      },
      "execution_count": 206,
      "outputs": [
        {
          "output_type": "execute_result",
          "data": {
            "text/plain": [
              "      Store StoreType Assortment  CompetitionDistance  \\\n",
              "1110   1111         a          a               1900.0   \n",
              "1111   1112         c          c               1880.0   \n",
              "1112   1113         a          c               9260.0   \n",
              "1113   1114         a          c                870.0   \n",
              "1114   1115         d          c               5350.0   \n",
              "\n",
              "      CompetitionOpenSinceMonth  CompetitionOpenSinceYear  Promo2  \\\n",
              "1110                        6.0                    2014.0       1   \n",
              "1111                        4.0                    2006.0       0   \n",
              "1112                        NaN                       NaN       0   \n",
              "1113                        NaN                       NaN       0   \n",
              "1114                        NaN                       NaN       1   \n",
              "\n",
              "      Promo2SinceWeek  Promo2SinceYear     PromoInterval  \n",
              "1110             31.0           2013.0   Jan,Apr,Jul,Oct  \n",
              "1111              NaN              NaN               NaN  \n",
              "1112              NaN              NaN               NaN  \n",
              "1113              NaN              NaN               NaN  \n",
              "1114             22.0           2012.0  Mar,Jun,Sept,Dec  "
            ],
            "text/html": [
              "\n",
              "  <div id=\"df-21ba3217-7a7c-409f-afc3-46c8e9b049f6\">\n",
              "    <div class=\"colab-df-container\">\n",
              "      <div>\n",
              "<style scoped>\n",
              "    .dataframe tbody tr th:only-of-type {\n",
              "        vertical-align: middle;\n",
              "    }\n",
              "\n",
              "    .dataframe tbody tr th {\n",
              "        vertical-align: top;\n",
              "    }\n",
              "\n",
              "    .dataframe thead th {\n",
              "        text-align: right;\n",
              "    }\n",
              "</style>\n",
              "<table border=\"1\" class=\"dataframe\">\n",
              "  <thead>\n",
              "    <tr style=\"text-align: right;\">\n",
              "      <th></th>\n",
              "      <th>Store</th>\n",
              "      <th>StoreType</th>\n",
              "      <th>Assortment</th>\n",
              "      <th>CompetitionDistance</th>\n",
              "      <th>CompetitionOpenSinceMonth</th>\n",
              "      <th>CompetitionOpenSinceYear</th>\n",
              "      <th>Promo2</th>\n",
              "      <th>Promo2SinceWeek</th>\n",
              "      <th>Promo2SinceYear</th>\n",
              "      <th>PromoInterval</th>\n",
              "    </tr>\n",
              "  </thead>\n",
              "  <tbody>\n",
              "    <tr>\n",
              "      <th>1110</th>\n",
              "      <td>1111</td>\n",
              "      <td>a</td>\n",
              "      <td>a</td>\n",
              "      <td>1900.0</td>\n",
              "      <td>6.0</td>\n",
              "      <td>2014.0</td>\n",
              "      <td>1</td>\n",
              "      <td>31.0</td>\n",
              "      <td>2013.0</td>\n",
              "      <td>Jan,Apr,Jul,Oct</td>\n",
              "    </tr>\n",
              "    <tr>\n",
              "      <th>1111</th>\n",
              "      <td>1112</td>\n",
              "      <td>c</td>\n",
              "      <td>c</td>\n",
              "      <td>1880.0</td>\n",
              "      <td>4.0</td>\n",
              "      <td>2006.0</td>\n",
              "      <td>0</td>\n",
              "      <td>NaN</td>\n",
              "      <td>NaN</td>\n",
              "      <td>NaN</td>\n",
              "    </tr>\n",
              "    <tr>\n",
              "      <th>1112</th>\n",
              "      <td>1113</td>\n",
              "      <td>a</td>\n",
              "      <td>c</td>\n",
              "      <td>9260.0</td>\n",
              "      <td>NaN</td>\n",
              "      <td>NaN</td>\n",
              "      <td>0</td>\n",
              "      <td>NaN</td>\n",
              "      <td>NaN</td>\n",
              "      <td>NaN</td>\n",
              "    </tr>\n",
              "    <tr>\n",
              "      <th>1113</th>\n",
              "      <td>1114</td>\n",
              "      <td>a</td>\n",
              "      <td>c</td>\n",
              "      <td>870.0</td>\n",
              "      <td>NaN</td>\n",
              "      <td>NaN</td>\n",
              "      <td>0</td>\n",
              "      <td>NaN</td>\n",
              "      <td>NaN</td>\n",
              "      <td>NaN</td>\n",
              "    </tr>\n",
              "    <tr>\n",
              "      <th>1114</th>\n",
              "      <td>1115</td>\n",
              "      <td>d</td>\n",
              "      <td>c</td>\n",
              "      <td>5350.0</td>\n",
              "      <td>NaN</td>\n",
              "      <td>NaN</td>\n",
              "      <td>1</td>\n",
              "      <td>22.0</td>\n",
              "      <td>2012.0</td>\n",
              "      <td>Mar,Jun,Sept,Dec</td>\n",
              "    </tr>\n",
              "  </tbody>\n",
              "</table>\n",
              "</div>\n",
              "      <button class=\"colab-df-convert\" onclick=\"convertToInteractive('df-21ba3217-7a7c-409f-afc3-46c8e9b049f6')\"\n",
              "              title=\"Convert this dataframe to an interactive table.\"\n",
              "              style=\"display:none;\">\n",
              "        \n",
              "  <svg xmlns=\"http://www.w3.org/2000/svg\" height=\"24px\"viewBox=\"0 0 24 24\"\n",
              "       width=\"24px\">\n",
              "    <path d=\"M0 0h24v24H0V0z\" fill=\"none\"/>\n",
              "    <path d=\"M18.56 5.44l.94 2.06.94-2.06 2.06-.94-2.06-.94-.94-2.06-.94 2.06-2.06.94zm-11 1L8.5 8.5l.94-2.06 2.06-.94-2.06-.94L8.5 2.5l-.94 2.06-2.06.94zm10 10l.94 2.06.94-2.06 2.06-.94-2.06-.94-.94-2.06-.94 2.06-2.06.94z\"/><path d=\"M17.41 7.96l-1.37-1.37c-.4-.4-.92-.59-1.43-.59-.52 0-1.04.2-1.43.59L10.3 9.45l-7.72 7.72c-.78.78-.78 2.05 0 2.83L4 21.41c.39.39.9.59 1.41.59.51 0 1.02-.2 1.41-.59l7.78-7.78 2.81-2.81c.8-.78.8-2.07 0-2.86zM5.41 20L4 18.59l7.72-7.72 1.47 1.35L5.41 20z\"/>\n",
              "  </svg>\n",
              "      </button>\n",
              "      \n",
              "  <style>\n",
              "    .colab-df-container {\n",
              "      display:flex;\n",
              "      flex-wrap:wrap;\n",
              "      gap: 12px;\n",
              "    }\n",
              "\n",
              "    .colab-df-convert {\n",
              "      background-color: #E8F0FE;\n",
              "      border: none;\n",
              "      border-radius: 50%;\n",
              "      cursor: pointer;\n",
              "      display: none;\n",
              "      fill: #1967D2;\n",
              "      height: 32px;\n",
              "      padding: 0 0 0 0;\n",
              "      width: 32px;\n",
              "    }\n",
              "\n",
              "    .colab-df-convert:hover {\n",
              "      background-color: #E2EBFA;\n",
              "      box-shadow: 0px 1px 2px rgba(60, 64, 67, 0.3), 0px 1px 3px 1px rgba(60, 64, 67, 0.15);\n",
              "      fill: #174EA6;\n",
              "    }\n",
              "\n",
              "    [theme=dark] .colab-df-convert {\n",
              "      background-color: #3B4455;\n",
              "      fill: #D2E3FC;\n",
              "    }\n",
              "\n",
              "    [theme=dark] .colab-df-convert:hover {\n",
              "      background-color: #434B5C;\n",
              "      box-shadow: 0px 1px 3px 1px rgba(0, 0, 0, 0.15);\n",
              "      filter: drop-shadow(0px 1px 2px rgba(0, 0, 0, 0.3));\n",
              "      fill: #FFFFFF;\n",
              "    }\n",
              "  </style>\n",
              "\n",
              "      <script>\n",
              "        const buttonEl =\n",
              "          document.querySelector('#df-21ba3217-7a7c-409f-afc3-46c8e9b049f6 button.colab-df-convert');\n",
              "        buttonEl.style.display =\n",
              "          google.colab.kernel.accessAllowed ? 'block' : 'none';\n",
              "\n",
              "        async function convertToInteractive(key) {\n",
              "          const element = document.querySelector('#df-21ba3217-7a7c-409f-afc3-46c8e9b049f6');\n",
              "          const dataTable =\n",
              "            await google.colab.kernel.invokeFunction('convertToInteractive',\n",
              "                                                     [key], {});\n",
              "          if (!dataTable) return;\n",
              "\n",
              "          const docLinkHtml = 'Like what you see? Visit the ' +\n",
              "            '<a target=\"_blank\" href=https://colab.research.google.com/notebooks/data_table.ipynb>data table notebook</a>'\n",
              "            + ' to learn more about interactive tables.';\n",
              "          element.innerHTML = '';\n",
              "          dataTable['output_type'] = 'display_data';\n",
              "          await google.colab.output.renderOutput(dataTable, element);\n",
              "          const docLink = document.createElement('div');\n",
              "          docLink.innerHTML = docLinkHtml;\n",
              "          element.appendChild(docLink);\n",
              "        }\n",
              "      </script>\n",
              "    </div>\n",
              "  </div>\n",
              "  "
            ]
          },
          "metadata": {},
          "execution_count": 206
        }
      ]
    },
    {
      "cell_type": "markdown",
      "source": [
        "### Dataset Rows & Columns count"
      ],
      "metadata": {
        "id": "7hBIi_osiCS2"
      }
    },
    {
      "cell_type": "code",
      "source": [
        "# lets know the shape and understand that how many rows and columns are there.\n",
        "print(f'There are {data_rossmann.shape[0]} rows & {data_rossmann.shape[1]} columns in the Rossman Dataset')\n",
        "print(f'There are {data_store.shape[0]} rows & {data_store.shape[1]} columns in the Store Dataset')"
      ],
      "metadata": {
        "id": "Kllu7SJgmLij",
        "colab": {
          "base_uri": "https://localhost:8080/"
        },
        "outputId": "fe4daa94-996b-4af3-d45d-0b8cb313fabf"
      },
      "execution_count": 207,
      "outputs": [
        {
          "output_type": "stream",
          "name": "stdout",
          "text": [
            "There are 700582 rows & 9 columns in the Rossman Dataset\n",
            "There are 1115 rows & 10 columns in the Store Dataset\n"
          ]
        }
      ]
    },
    {
      "cell_type": "markdown",
      "source": [
        "### Dataset Information"
      ],
      "metadata": {
        "id": "JlHwYmJAmNHm"
      }
    },
    {
      "cell_type": "code",
      "source": [
        "# Dataset Info for Rossman Dataset\n",
        "data_rossmann.info()"
      ],
      "metadata": {
        "id": "e9hRXRi6meOf"
      },
      "execution_count": null,
      "outputs": []
    },
    {
      "cell_type": "code",
      "source": [
        "# Dataset Info for StoreDataset\n",
        "data_store.info()"
      ],
      "metadata": {
        "id": "3jwWNLWSwfI1"
      },
      "execution_count": null,
      "outputs": []
    },
    {
      "cell_type": "markdown",
      "source": [
        "#### Duplicate Values"
      ],
      "metadata": {
        "id": "35m5QtbWiB9F"
      }
    },
    {
      "cell_type": "markdown",
      "source": [
        "For Rossman Dataset"
      ],
      "metadata": {
        "id": "-u53OgKYxpEs"
      }
    },
    {
      "cell_type": "code",
      "source": [
        "# Dataset Duplicate Value Count for Rossman Dataset & lets indentify the duplicate values in each columns\n",
        "duplicate_columns=data_rossmann[data_rossmann.duplicated()]\n",
        "print(data_rossmann.count())\n",
        "print(f\"Number of duplicated rows in Rossmann dataset: {data_rossmann.duplicated().sum()}\")"
      ],
      "metadata": {
        "id": "1sLdpKYkmox0"
      },
      "execution_count": null,
      "outputs": []
    },
    {
      "cell_type": "markdown",
      "source": [
        " For Store Dataset"
      ],
      "metadata": {
        "id": "6J_kf8dkxxkk"
      }
    },
    {
      "cell_type": "code",
      "source": [
        "# Dataset Duplicate Value Count for Store Dataset & lets indentify the duplicate values in each columns\n",
        "duplicate_columns=data_store[data_store.duplicated()]\n",
        "print(data_store.count())\n",
        "print(f\"Number of duplicated rows in Rossmann dataset: {data_store.duplicated().sum()}\")"
      ],
      "metadata": {
        "id": "k3-nvt9exbeA"
      },
      "execution_count": null,
      "outputs": []
    },
    {
      "cell_type": "markdown",
      "source": [
        "**INFERENCE**\n",
        "\n",
        "*   There is no any duplicate value in both the dataset which makes the dataset more easier for us.\n",
        "\n"
      ],
      "metadata": {
        "id": "j_iJ2EMXzP7h"
      }
    },
    {
      "cell_type": "markdown",
      "source": [
        "#### Missing Values/Null Values"
      ],
      "metadata": {
        "id": "PoPl-ycgm1ru"
      }
    },
    {
      "cell_type": "markdown",
      "source": [
        " For Rossman Dataset"
      ],
      "metadata": {
        "id": "2cgbDyfhyX_X"
      }
    },
    {
      "cell_type": "code",
      "source": [
        "# Missing Values/Null Values Count\n",
        "data_rossmann.isna().sum().sort_values(ascending=False)"
      ],
      "metadata": {
        "id": "GgHWkxvamxVg"
      },
      "execution_count": null,
      "outputs": []
    },
    {
      "cell_type": "code",
      "source": [
        "# Visualizing the missing values\n",
        "msnull.bar(data_rossmann,figsize=(10,5),color=\"Red\")"
      ],
      "metadata": {
        "id": "3q5wnI3om9sJ"
      },
      "execution_count": null,
      "outputs": []
    },
    {
      "cell_type": "markdown",
      "source": [
        "For Store Dataset"
      ],
      "metadata": {
        "id": "CEaLIRZp_me3"
      }
    },
    {
      "cell_type": "code",
      "source": [
        "# Missing Values/Null Values Count\n",
        "data_store.isna().sum().sort_values(ascending=False)"
      ],
      "metadata": {
        "id": "2VM7VxqA_uXi"
      },
      "execution_count": null,
      "outputs": []
    },
    {
      "cell_type": "code",
      "source": [
        "# Visualizing the missing values\n",
        "msnull.bar(data_store,figsize=(10,5),color=\"Blue\")"
      ],
      "metadata": {
        "id": "KII5GojlABO2"
      },
      "execution_count": null,
      "outputs": []
    },
    {
      "cell_type": "markdown",
      "source": [
        "**INFERENCE**\n",
        "\n",
        "**1.   We don't have null or infinite values Rossmann's dataset.**\n",
        "\n",
        "**2.   We have some null values in Store dataset and we will remove it in later**\n",
        "\n",
        "\n"
      ],
      "metadata": {
        "id": "ZSMs50kHAR4B"
      }
    },
    {
      "cell_type": "markdown",
      "source": [
        "### What did you know about your dataset?"
      ],
      "metadata": {
        "id": "H0kj-8xxnORC"
      }
    },
    {
      "cell_type": "markdown",
      "source": [
        "Until now we get to know the subsequent points about our dataset:\n",
        "\n",
        "**'Rossmann Dataset'**\n",
        "\n",
        "*   This dataset is having 1017209 rows and 9 columns.\n",
        "*   This dataset does not contain any null value.\n",
        "*   There is no duplicate values present in the datasets.\n",
        "\n",
        "\n",
        "\n",
        "**'Stores Dataset'**\n",
        "\n",
        "*   This dataset is having 1115 rows and 10 columns.\n",
        "*   It carries null values in overall six capabilities i.e. **Promo2SinceWeek**, **Promo2SinceYear**, **PromoInterval**, **CompetitionOpenSinceMonth**, **CompetitionOpenSinceYear**,  **CompetitionDistance**.\n",
        "*   There is no duplicate values present in the datasets.\n"
      ],
      "metadata": {
        "id": "gfoNAAC-nUe_"
      }
    },
    {
      "cell_type": "markdown",
      "source": [
        "## ***2. Understanding Your Variables***"
      ],
      "metadata": {
        "id": "nA9Y7ga8ng1Z"
      }
    },
    {
      "cell_type": "markdown",
      "source": [
        "For Rossmann Dataset"
      ],
      "metadata": {
        "id": "FAz2wFKWITvK"
      }
    },
    {
      "cell_type": "code",
      "source": [
        "# Dataset Columns\n",
        "print(f\"Column names of Rossmann dataset is:\\n{data_rossmann.columns.tolist()}\")"
      ],
      "metadata": {
        "id": "j7xfkqrt5Ag5"
      },
      "execution_count": null,
      "outputs": []
    },
    {
      "cell_type": "code",
      "source": [
        "# Dataset Describe\n",
        "data_rossmann.describe()"
      ],
      "metadata": {
        "id": "DnOaZdaE5Q5t"
      },
      "execution_count": null,
      "outputs": []
    },
    {
      "cell_type": "markdown",
      "source": [
        "For store dataset"
      ],
      "metadata": {
        "id": "Y8JIwDFwJzTX"
      }
    },
    {
      "cell_type": "code",
      "source": [
        "# Dataset Columns\n",
        "print(f\"Column names of Store dataset is:\\n{data_store.columns.tolist()}\")"
      ],
      "metadata": {
        "id": "Rfc1m0CPJwX_"
      },
      "execution_count": null,
      "outputs": []
    },
    {
      "cell_type": "code",
      "source": [
        "# Dataset Describe\n",
        "data_store.describe()"
      ],
      "metadata": {
        "id": "GeLkJ0nxJ7BO"
      },
      "execution_count": null,
      "outputs": []
    },
    {
      "cell_type": "markdown",
      "source": [
        "### Variables Description "
      ],
      "metadata": {
        "id": "PBTbrJXOngz2"
      }
    },
    {
      "cell_type": "markdown",
      "source": [
        "###**Rossmann Stores Data.csv** - historical data including Sales\n",
        "\n",
        "###**Store.csv** - supplemental information about the stores\n",
        "\n",
        "###**Data fields**\n",
        "\n",
        "**Id**- an Id that represents a (Store, Date) duple within the test set\n",
        "\n",
        "**Store** - a unique Id for each store\n",
        "\n",
        "**Sales**- the turnover for any given day (this is what you are predicting)\n",
        "\n",
        "**Customers** - the number of customers on a given day\n",
        "\n",
        "**Open** - an indicator for whether the store was open: 0 = closed, 1 = open\n",
        "\n",
        "**StateHoliday** - indicates a state holiday.\n",
        "\n",
        "**SchoolHoliday** - indicates if the (Store, Date) was affected by the closure of public schools\n",
        "\n",
        "**StoreType** - differentiates between 4 different store models: a, b, c, d\n",
        "\n",
        "**Assortment** - describes an assortment level: a = basic, b = extra, c = extended\n",
        "\n",
        "**CompetitionDistance** - distance in meters to the nearest competitor store\n",
        "\n",
        "**CompetitionOpenSince[Month/Year]** - gives the approximate year and month of the time the nearest competitor was opened\n",
        "\n",
        "**Promo** - indicates whether a store is running a promo on that day\n",
        "\n",
        "**Promo2** - Promo2 is a continuing and consecutive promotion for some stores: 0 = store is not participating, 1 = store is participating\n",
        "\n",
        "**Promo2Since[Year/Week]** - describes the year and calendar week when the store started participating in Promo2\n",
        "\n",
        "**PromoInterval** - describes the consecutive intervals Promo2 is started, naming the months the promotion is started a new. E.g. \"Feb,May,Aug,Nov\" means each round starts in February, May, August, November of any given year for that store."
      ],
      "metadata": {
        "id": "aJV4KIxSnxay"
      }
    },
    {
      "cell_type": "markdown",
      "source": [
        "### Check Unique Values for each variable."
      ],
      "metadata": {
        "id": "u3PMJOP6ngxN"
      }
    },
    {
      "cell_type": "markdown",
      "source": [
        "For Rossmann Dataset"
      ],
      "metadata": {
        "id": "_eUF8TamN-hE"
      }
    },
    {
      "cell_type": "code",
      "source": [
        "# Check Unique Values for each variable.\n",
        "for col in data_rossmann.columns:                            # Loop through columns and print unique values\n",
        "    unique_vals = data_rossmann[col].unique()\n",
        "    print(f\"Unique values for column '{col}': {unique_vals}\")"
      ],
      "metadata": {
        "id": "zms12Yq5n-jE"
      },
      "execution_count": null,
      "outputs": []
    },
    {
      "cell_type": "markdown",
      "source": [
        "For Rossmann Dataset"
      ],
      "metadata": {
        "id": "XxJ686w5OIhU"
      }
    },
    {
      "cell_type": "code",
      "source": [
        "# Check Unique Values for each variable.\n",
        "for col in data_store.columns:                            # Loop through columns and print unique values\n",
        "    unique_vals = data_store[col].unique()\n",
        "    print(f\"Unique values for column '{col}': {unique_vals}\")"
      ],
      "metadata": {
        "id": "Bq2CpjtgOG-X"
      },
      "execution_count": null,
      "outputs": []
    },
    {
      "cell_type": "markdown",
      "source": [
        "## 3. ***Data Wrangling***"
      ],
      "metadata": {
        "id": "dauF4eBmngu3"
      }
    },
    {
      "cell_type": "markdown",
      "source": [
        "### **A) Checking Null Values In Our Dataset**"
      ],
      "metadata": {
        "id": "bKJF3rekwFvQ"
      }
    },
    {
      "cell_type": "code",
      "source": [
        "#For Rossmann dataset\n",
        "data_rossmann.isna().sum().sort_values(ascending=False)      #knowing the nulll value from descending order"
      ],
      "metadata": {
        "id": "wk-9a2fpoLcV"
      },
      "execution_count": null,
      "outputs": []
    },
    {
      "cell_type": "markdown",
      "source": [
        "As we can see that in our rossmann Dataset we have zero null values.So no need to evaluate null values."
      ],
      "metadata": {
        "id": "CewFbRduruCi"
      }
    },
    {
      "cell_type": "code",
      "source": [
        "#For Store dataset\n",
        "data_store.isna().sum().sort_values(ascending=False)      #knowing the nulll value from descending order"
      ],
      "metadata": {
        "id": "NgioNMMZr71N"
      },
      "execution_count": null,
      "outputs": []
    },
    {
      "cell_type": "markdown",
      "source": [
        "As we can see in our Store dataset we have too many null values.So we need to remove them for better result."
      ],
      "metadata": {
        "id": "5jYf4X8EsHoG"
      }
    },
    {
      "cell_type": "markdown",
      "source": [
        "So we will devide our null values Dataset into 3 parts.\n",
        "\n",
        "*   The First part we will look after the columns **Promo2SinceWeek**, **Promo2SinceYear** and  **PromoInterval**. \n",
        "*   The Second part we will be taking **CompetitionOpenSinceMonth** and  **CompetitionOpenSinceMonth**\n",
        "\n",
        "*   The Third part we will take **CompetitionDistance** \n",
        "\n",
        "\n",
        "\n",
        "\n"
      ],
      "metadata": {
        "id": "pvLTymq8uCUf"
      }
    },
    {
      "cell_type": "markdown",
      "source": [
        "###1)  First Part i.e. **Promo2SinceWeek**, **Promo2SinceYear** and **PromoInterval**."
      ],
      "metadata": {
        "id": "TY1Qod1wyDeX"
      }
    },
    {
      "cell_type": "code",
      "source": [
        "# Replacing all the null values of Promo2SinceWeek, Promo2SinceYear and PromoInterval with 0. \n",
        "data_store[\"Promo2SinceWeek\"].fillna(0, inplace=True)\n",
        "data_store[\"Promo2SinceYear\"].fillna(0, inplace=True)\n",
        "data_store[\"PromoInterval\"].fillna(0, inplace=True)"
      ],
      "metadata": {
        "id": "bqBGKsurwwMF"
      },
      "execution_count": null,
      "outputs": []
    },
    {
      "cell_type": "code",
      "source": [
        "#lets check if there is some null value left after filling it in dataset.\n",
        "data_store.isna().sum().sort_values(ascending=False) "
      ],
      "metadata": {
        "id": "aR2AS6BjyTuK"
      },
      "execution_count": null,
      "outputs": []
    },
    {
      "cell_type": "markdown",
      "source": [
        "**Finally,We had filled the null values for the first part.** "
      ],
      "metadata": {
        "id": "mzypO8RYyfvS"
      }
    },
    {
      "cell_type": "markdown",
      "source": [
        "###2) Second Part i.e. **CompetitionOpenSinceMonth** and **CompetitionOpenSinceYear**"
      ],
      "metadata": {
        "id": "hKOJ70d3zkF7"
      }
    },
    {
      "cell_type": "code",
      "source": [
        "# filling null values of CompetitionOpenSinceMonth with mode \n",
        "data_store[\"CompetitionOpenSinceMonth\"].fillna(data_store[\"CompetitionOpenSinceMonth\"].mode()[0], inplace=True)"
      ],
      "metadata": {
        "id": "hxdes1QCzjs3"
      },
      "execution_count": null,
      "outputs": []
    },
    {
      "cell_type": "code",
      "source": [
        "# filling null values of CompetitionOpenSinceYear with mode\n",
        "data_store[\"CompetitionOpenSinceYear\"].fillna(data_store[\"CompetitionOpenSinceYear\"].mode()[0], inplace=True)"
      ],
      "metadata": {
        "id": "QPXp3ih10p79"
      },
      "execution_count": null,
      "outputs": []
    },
    {
      "cell_type": "code",
      "source": [
        "#lets check if there is some null value left after filling it in dataset.\n",
        "data_store.isna().sum().sort_values(ascending=False) "
      ],
      "metadata": {
        "id": "I54Vld-n6zGA"
      },
      "execution_count": null,
      "outputs": []
    },
    {
      "cell_type": "markdown",
      "source": [
        "**Finally, there is no null values in  the second part.**"
      ],
      "metadata": {
        "id": "awK8sVx-7OAU"
      }
    },
    {
      "cell_type": "markdown",
      "source": [
        "###3) Third Part i.e. **CompetitionDistance** attribute."
      ],
      "metadata": {
        "id": "6JfoR2Yq73Ry"
      }
    },
    {
      "cell_type": "code",
      "source": [
        "plt.figure(figsize=(10,6))\n",
        "sns.histplot(x=data_store[\"CompetitionDistance\"])\n",
        "plt.show()"
      ],
      "metadata": {
        "id": "dtTZjTK97t8W"
      },
      "execution_count": null,
      "outputs": []
    },
    {
      "cell_type": "markdown",
      "source": [
        "As we are able to see that the distribution seem like right skewed distribution. So we dicided to fill null values with median"
      ],
      "metadata": {
        "id": "kaEDyBMv-KBE"
      }
    },
    {
      "cell_type": "code",
      "source": [
        "#replacing Nan values in CompetitionDistance with median.\n",
        "data_store['CompetitionDistance'].fillna(data_store['CompetitionDistance'].median(), inplace = True)"
      ],
      "metadata": {
        "id": "LYxwbLw6-XnX"
      },
      "execution_count": null,
      "outputs": []
    },
    {
      "cell_type": "code",
      "source": [
        "#lets check if there is some null value left after filling it in dataset.\n",
        "data_store.isna().sum().sort_values(ascending=False)"
      ],
      "metadata": {
        "id": "XNBrkac2-yKZ"
      },
      "execution_count": null,
      "outputs": []
    },
    {
      "cell_type": "markdown",
      "source": [
        "###Finally, there is no null values in oue Dataset. So we can move forward to our next step."
      ],
      "metadata": {
        "id": "qPXTMZFN-2dU"
      }
    },
    {
      "cell_type": "markdown",
      "source": [
        "### **B)** **Merging The Two Dataset**"
      ],
      "metadata": {
        "id": "uIaOUZuVBd9N"
      }
    },
    {
      "cell_type": "markdown",
      "source": [
        "Using head function for Rossmann dataset"
      ],
      "metadata": {
        "id": "HKNrAakxCjBi"
      }
    },
    {
      "cell_type": "code",
      "source": [
        "data_rossmann.head(3)"
      ],
      "metadata": {
        "id": "bycPqhD6BXNe"
      },
      "execution_count": null,
      "outputs": []
    },
    {
      "cell_type": "markdown",
      "source": [
        "using head Function for Store dataset "
      ],
      "metadata": {
        "id": "-j4nz0n_Cxpu"
      }
    },
    {
      "cell_type": "code",
      "source": [
        "data_store.head(3)"
      ],
      "metadata": {
        "id": "nNQOA1rtC8cW"
      },
      "execution_count": null,
      "outputs": []
    },
    {
      "cell_type": "markdown",
      "source": [
        "###As we can clearily see that the both the dataset has Store atrribute common, so we will merge both the Dataset by Store attribute. As we have no null value in our dataset we will use **Inner Join** to merge the dataset"
      ],
      "metadata": {
        "id": "cWfAjwAXDXjs"
      }
    },
    {
      "cell_type": "code",
      "source": [
        "#using inner join for our further analysis\n",
        "data= pd.merge(data_rossmann, data_store, on=\"Store\", how= \"inner\")"
      ],
      "metadata": {
        "id": "giznVKyVENz2"
      },
      "execution_count": null,
      "outputs": []
    },
    {
      "cell_type": "code",
      "source": [
        "#checking the shape and knowing how many rows and columns are there.\n",
        "print(f'There are {data.shape[0]} rows & {data.shape[1]} columns')"
      ],
      "metadata": {
        "id": "qmBNtmTZEv99"
      },
      "execution_count": null,
      "outputs": []
    },
    {
      "cell_type": "code",
      "source": [
        "#checking info of our final merged dataset\n",
        "data.info()"
      ],
      "metadata": {
        "id": "b8jzoPDGFj_D"
      },
      "execution_count": null,
      "outputs": []
    },
    {
      "cell_type": "markdown",
      "source": [
        "###**C)** **Typecasting The datatypes.**"
      ],
      "metadata": {
        "id": "vLTtUY2hKDb2"
      }
    },
    {
      "cell_type": "code",
      "source": [
        "#know the data \n",
        "data.dtypes"
      ],
      "metadata": {
        "id": "YqACX8lhKMZW"
      },
      "execution_count": null,
      "outputs": []
    },
    {
      "cell_type": "code",
      "source": [
        "# convert the 'Date' column to datetime format\n",
        "from datetime import datetime\n",
        "data['Date']= pd.to_datetime(data['Date'],errors='coerce')"
      ],
      "metadata": {
        "id": "OxTvulOeKllg"
      },
      "execution_count": null,
      "outputs": []
    },
    {
      "cell_type": "markdown",
      "source": [
        "float data can lead to error . So we will convert them into integers"
      ],
      "metadata": {
        "id": "LV7EMD1zLeNv"
      }
    },
    {
      "cell_type": "code",
      "source": [
        "data['CompetitionDistance']= data['CompetitionDistance'].astype(int)\n",
        "data['CompetitionOpenSinceMonth']= data['CompetitionOpenSinceMonth'].astype(int)\n",
        "data['CompetitionOpenSinceYear']= data['CompetitionOpenSinceYear'].astype(int)\n",
        "data['Promo2SinceWeek']= data['Promo2SinceWeek'].astype(int)\n",
        "data['Promo2SinceYear']= data['Promo2SinceYear'].astype(int)\n",
        "     "
      ],
      "metadata": {
        "id": "LkcL_c33LULZ"
      },
      "execution_count": null,
      "outputs": []
    },
    {
      "cell_type": "code",
      "source": [
        "#checking everything looks fine in our datset or not\n",
        "data.info()"
      ],
      "metadata": {
        "id": "Ywo68qVtLyh3"
      },
      "execution_count": null,
      "outputs": []
    },
    {
      "cell_type": "code",
      "source": [
        "data.columns"
      ],
      "metadata": {
        "id": "wExtxeBaWx40"
      },
      "execution_count": null,
      "outputs": []
    },
    {
      "cell_type": "markdown",
      "source": [
        "### What all manipulations have you done and insights you found?"
      ],
      "metadata": {
        "id": "MSa1f5Uengrz"
      }
    },
    {
      "cell_type": "markdown",
      "source": [
        "As a part fo Data Wrangling, I did below data manipulations,\n",
        "\n",
        "**Part A): Checked Null Values In Our Dataset** \n",
        "\n",
        "In **Rossmann Dataset** : There is no null value in this datset.\n",
        "\n",
        "In **Store Dataset** : In this section I had devided into three parts.\n",
        "\n",
        "Fisrt part i.e. **Promo2SinceWeek**, **Promo2SinceYear** and  **PromoInterval**. flled with 0.\n",
        "\n",
        "Second part i.e.**CompetitionOpenSinceMonth** and  **CompetitionOpenSinceMonth** is filled with mode.\n",
        "\n",
        "Third part i.e. **CompetitionDistance** is filled with median.\n",
        "\n",
        "**Part B) : Merging The Two Dataset** \n",
        "\n",
        "In this section, I had first find the attribute which is common in both the dataset.So I found that the attribute store is common in both the datset. Then find the best fitt join to merge my both the datset into one.\n",
        "\n",
        "**Part C) : Typecasting The Datatype**\n",
        "\n",
        "In this part,the first step to find the datatype of the merged datatype.Then converted them into best fit dataypes. \n",
        "\n",
        "The **date** is converted into the **dateTime** formate. In which the **month** ,**year** and **dates** are extracted seperately. \n",
        "\n",
        "And the **CompetitionDistance, CompetitionOpenSinceMonth, CompetitionOpenSinceYear, Promo2SinceWeek, Promo2SinceYear** attrbute are converted from float to Integer.\n"
      ],
      "metadata": {
        "id": "LbyXE7I1olp8"
      }
    },
    {
      "cell_type": "markdown",
      "source": [
        "## ***4. Data Vizualization, Storytelling & Experimenting with charts : Understand the relationships between variables***"
      ],
      "metadata": {
        "id": "GF8Ens_Soomf"
      }
    },
    {
      "cell_type": "markdown",
      "source": [
        "#### Chart - 1"
      ],
      "metadata": {
        "id": "0wOQAZs5pc--"
      }
    },
    {
      "cell_type": "code",
      "source": [
        "#Chart- We can create a histogram to show the distribution of sales in the dataset.\n",
        "# Plot a histogram of sales\n",
        "plt.hist(x=data['Sales'], bins=50, color='blue')\n",
        "plt.xlabel('Sales')\n",
        "plt.ylabel('Frequency')\n",
        "plt.title('Histogram of Sales in Rossmann Retail Dataset')\n",
        "plt.show()\n",
        "\n"
      ],
      "metadata": {
        "id": "7v_ESjsspbW7"
      },
      "execution_count": null,
      "outputs": []
    },
    {
      "cell_type": "markdown",
      "source": [
        "##### 1. Why did you pick the specific chart?"
      ],
      "metadata": {
        "id": "K5QZ13OEpz2H"
      }
    },
    {
      "cell_type": "markdown",
      "source": [
        "We picked up histplot as it is a quick and easy way to visualize the distribution of a dataset, which can help identify patterns, trends, and outliers.It is an chart that displays the distribution of numerical data."
      ],
      "metadata": {
        "id": "XESiWehPqBRc"
      }
    },
    {
      "cell_type": "markdown",
      "source": [
        "##### 2. What is/are the insight(s) found from the chart?"
      ],
      "metadata": {
        "id": "lQ7QKXXCp7Bj"
      }
    },
    {
      "cell_type": "markdown",
      "source": [
        "*  From the histogram of Sales in the Rossmann retail dataset, we can see that the distribution is positively skewed, with the majority of sales falling in the range of approximately 0 to 20,000\n",
        "\n",
        "\n",
        "\n"
      ],
      "metadata": {
        "id": "C_j1G7yiqdRP"
      }
    },
    {
      "cell_type": "markdown",
      "source": [
        "##### 3. Will the gained insights help creating a positive business impact? \n",
        "Are there any insights that lead to negative growth? Justify with specific reason."
      ],
      "metadata": {
        "id": "448CDAPjqfQr"
      }
    },
    {
      "cell_type": "markdown",
      "source": [
        "Overall, the insights gained from the histogram of sales in the Rossmann retail dataset can provide valuable information for retailers to make informed decisions and drive positive business impact, as long as they are used in a thoughtful and strategic way."
      ],
      "metadata": {
        "id": "3cspy4FjqxJW"
      }
    },
    {
      "cell_type": "markdown",
      "source": [
        "#### Chart - 2"
      ],
      "metadata": {
        "id": "KSlN3yHqYklG"
      }
    },
    {
      "cell_type": "code",
      "source": [
        "# Chart - seaborn's kdeplot to visualize the distribution of customers in the dataset.\n",
        "plt.figure(figsize=(10,5))\n",
        "sns.kdeplot(data[\"Customers\"], color=\"Blue\", shade = True)\n",
        "plt.title('Distribution of Customers')\n",
        "plt.xlabel('Customers')\n",
        "plt.ylabel('Count')\n",
        "plt.show()"
      ],
      "metadata": {
        "id": "R4YgtaqtYklH"
      },
      "execution_count": null,
      "outputs": []
    },
    {
      "cell_type": "markdown",
      "source": [
        "##### 1. Why did you pick the specific chart?"
      ],
      "metadata": {
        "id": "t6dVpIINYklI"
      }
    },
    {
      "cell_type": "markdown",
      "source": [
        "We picked this chart as it tells us that how the customers are distributed. I had used KDE graphs as they provide a useful visualization for the distribution of a continuous variable."
      ],
      "metadata": {
        "id": "5aaW0BYyYklI"
      }
    },
    {
      "cell_type": "markdown",
      "source": [
        "##### 2. What is/are the insight(s) found from the chart?"
      ],
      "metadata": {
        "id": "ijmpgYnKYklI"
      }
    },
    {
      "cell_type": "markdown",
      "source": [
        "*  We can clearly see that the average distribution of customers is nearly approx 1000."
      ],
      "metadata": {
        "id": "PSx9atu2YklI"
      }
    },
    {
      "cell_type": "markdown",
      "source": [
        "##### 3. Will the gained insights help creating a positive business impact? \n",
        "Are there any insights that lead to negative growth? Justify with specific reason."
      ],
      "metadata": {
        "id": "-JiQyfWJYklI"
      }
    },
    {
      "cell_type": "markdown",
      "source": [
        "We Plotted the frequency distributed graph for customer attribute. Accordingly we came to realize that the disribution of clients are broadly in 1000 range. So commercial enterprise have to plan specific strategies to maintain inside the aggressive market."
      ],
      "metadata": {
        "id": "BcBbebzrYklV"
      }
    },
    {
      "cell_type": "markdown",
      "source": [
        "#### Chart - 3"
      ],
      "metadata": {
        "id": "EM7whBJCYoAo"
      }
    },
    {
      "cell_type": "code",
      "source": [
        "#Chart- We can use seaborn's countplot to visualize the count of store type in the dataset.\n",
        "sns.set_style(\"whitegrid\")\n",
        "sns.countplot(x=\"StoreType\", data=data)\n",
        "plt.title(\"Distribution of Store Types\")\n",
        "plt.xlabel(\"Store Type\")\n",
        "plt.ylabel(\"Count\")\n",
        "plt.show()"
      ],
      "metadata": {
        "id": "tShR1pvtcNru"
      },
      "execution_count": null,
      "outputs": []
    },
    {
      "cell_type": "markdown",
      "source": [
        "##### 1. Why did you pick the specific chart?"
      ],
      "metadata": {
        "id": "fge-S5ZAYoAp"
      }
    },
    {
      "cell_type": "markdown",
      "source": [
        "I picked a bar plot for the StoreType variable because it is a categorical variable with a limited number of unique values (A, B, C, and D). A bar plot is an effective way to visualize the frequency distribution of categorical variables, and it allows us to compare the count of each category easily."
      ],
      "metadata": {
        "id": "5dBItgRVYoAp"
      }
    },
    {
      "cell_type": "markdown",
      "source": [
        "##### 2. What is/are the insight(s) found from the chart?"
      ],
      "metadata": {
        "id": "85gYPyotYoAp"
      }
    },
    {
      "cell_type": "markdown",
      "source": [
        "The insight from the bar plot of the StoreType variable is that store type A is the most common type of store in the Rossmann retail dataset, followed by store type D, B, and C. This information can be useful for understanding the distribution of store types in the dataset and for comparing the performance of different store types."
      ],
      "metadata": {
        "id": "4jstXR6OYoAp"
      }
    },
    {
      "cell_type": "markdown",
      "source": [
        "##### 3. Will the gained insights help creating a positive business impact? \n",
        "Are there any insights that lead to negative growth? Justify with specific reason."
      ],
      "metadata": {
        "id": "RoGjAbkUYoAp"
      }
    },
    {
      "cell_type": "markdown",
      "source": [
        "The insight gained from the bar plot of the StoreType variable can help create a positive business impact by providing information on the distribution of store types in the dataset and allowing us to compare the performance of different store types."
      ],
      "metadata": {
        "id": "zfJ8IqMcYoAp"
      }
    },
    {
      "cell_type": "markdown",
      "source": [
        "#### Chart - 4"
      ],
      "metadata": {
        "id": "4Of9eVA-YrdM"
      }
    },
    {
      "cell_type": "code",
      "source": [
        "# Chart - We can use seaborn's countplot to visualize the count of stores with and without promotions.\n",
        "\n",
        "\n",
        "# create a stacked bar chart of the Promo variable by store type\n",
        "sns.countplot(x='StoreType', hue='Promo', data=data)\n",
        "\n",
        "# add title and axis labels\n",
        "plt.title('Proportion of Stores Running Promotions by Store Type')\n",
        "plt.xlabel('Store Type')\n",
        "plt.ylabel('Number of Stores')\n",
        "\n",
        "# display the plot\n",
        "plt.show()\n",
        "\n",
        "\n",
        "\n",
        "\n"
      ],
      "metadata": {
        "id": "irlUoxc8YrdO"
      },
      "execution_count": null,
      "outputs": []
    },
    {
      "cell_type": "markdown",
      "source": [
        "##### 1. Why did you pick the specific chart?"
      ],
      "metadata": {
        "id": "iky9q4vBYrdO"
      }
    },
    {
      "cell_type": "markdown",
      "source": [
        "I picked the count bar chart because it can effectively display the relationship between the Promo variable and the categorical variable StoreType\n",
        "\n"
      ],
      "metadata": {
        "id": "aJRCwT6DYrdO"
      }
    },
    {
      "cell_type": "markdown",
      "source": [
        "##### 2. What is/are the insight(s) found from the chart?"
      ],
      "metadata": {
        "id": "F6T5p64dYrdO"
      }
    },
    {
      "cell_type": "markdown",
      "source": [
        "* Store type a has the highest number of stores running promotions, followed by store type d, c, and b.\n",
        "\n",
        "* For store types a, b, and d, the number of stores running promotions is higher than the number of stores not running promotions.\n",
        "\n",
        "* For store type c, the number of stores running promotions is roughly the same as the number of stores not running promotions.\n",
        "\n",
        "* Overall, the proportion of stores running promotions is higher than the proportion of stores not running promotions for all store types except c."
      ],
      "metadata": {
        "id": "Xx8WAJvtYrdO"
      }
    },
    {
      "cell_type": "markdown",
      "source": [
        "##### 3. Will the gained insights help creating a positive business impact? \n",
        "Are there any insights that lead to negative growth? Justify with specific reason."
      ],
      "metadata": {
        "id": "y-Ehk30pYrdP"
      }
    },
    {
      "cell_type": "markdown",
      "source": [
        "The gained insights from the stacked bar chart of the Promo variable by StoreType can potentially create a positive business impact for retailers.For example, increasing the number of stores running promotions in store types c and b can lead to increased sales and customer engagement. Replicating successful promotion strategies from store type a can also lead to increased sales in other store types.\n",
        "\n",
        "There are no insights from this chart that would lead to negative growth"
      ],
      "metadata": {
        "id": "jLNxxz7MYrdP"
      }
    },
    {
      "cell_type": "markdown",
      "source": [
        "###Since in our dataset sales is the target coulmn . So we will see every possible relation between the sales column with every columns.\n",
        "**Bivirate Analysis**"
      ],
      "metadata": {
        "id": "whYGEwgUXowP"
      }
    },
    {
      "cell_type": "markdown",
      "source": [
        "#### Chart - 5"
      ],
      "metadata": {
        "id": "bamQiAODYuh1"
      }
    },
    {
      "cell_type": "code",
      "source": [
        "# Chart - Scatter plot of Sales vs. Customers:\n",
        "sns.scatterplot(x='Customers', y='Sales', data=data)\n",
        "plt.show()"
      ],
      "metadata": {
        "id": "TIJwrbroYuh3"
      },
      "execution_count": null,
      "outputs": []
    },
    {
      "cell_type": "markdown",
      "source": [
        "##### 1. Why did you pick the specific chart?"
      ],
      "metadata": {
        "id": "QHF8YVU7Yuh3"
      }
    },
    {
      "cell_type": "markdown",
      "source": [
        "A scatter plot of Sales vs. Customers is a useful bivariate plot to visualize the relationship between the two variables.Sales and Customers are both important metrics for retail stores, and understanding the relationship between them can provide insights into the effectiveness of a store's marketing strategies and customer engagement"
      ],
      "metadata": {
        "id": "dcxuIMRPYuh3"
      }
    },
    {
      "cell_type": "markdown",
      "source": [
        "##### 2. What is/are the insight(s) found from the chart?"
      ],
      "metadata": {
        "id": "GwzvFGzlYuh3"
      }
    },
    {
      "cell_type": "markdown",
      "source": [
        "This above scatterplot show a positive correlation between 'Sales' and 'Customers'.As the number of customers increases, the sales also tend to increase.This positive correlation is a good indicator that the store is effectively engaging with customers and meeting their needs."
      ],
      "metadata": {
        "id": "uyqkiB8YYuh3"
      }
    },
    {
      "cell_type": "markdown",
      "source": [
        "##### 3. Will the gained insights help creating a positive business impact? \n",
        "Are there any insights that lead to negative growth? Justify with specific reason."
      ],
      "metadata": {
        "id": "qYpmQ266Yuh3"
      }
    },
    {
      "cell_type": "markdown",
      "source": [
        "The gained insights from a scatter plot of Sales vs. Customers can help create a positive business impact if the insights are used effectively to improve business strategies and outcomes.This insight can be used to develop marketing strategies that attract more customers and increase sales."
      ],
      "metadata": {
        "id": "_WtzZ_hCYuh4"
      }
    },
    {
      "cell_type": "markdown",
      "source": [
        "#### Chart - 6"
      ],
      "metadata": {
        "id": "OH-pJp9IphqM"
      }
    },
    {
      "cell_type": "code",
      "source": [
        "# Chart - relationship between Sales and Assortment\n",
        "plots=sns.barplot(x=data['Assortment'],y=data['Sales'],edgecolor='black')\n",
        "plt.xlabel('Assortment')\n",
        "plt.ylabel('Sales')\n",
        "plt.title('Sales by Assortment')\n",
        "plt.show()"
      ],
      "metadata": {
        "id": "kuRf4wtuphqN"
      },
      "execution_count": null,
      "outputs": []
    },
    {
      "cell_type": "markdown",
      "source": [
        "##### 1. Why did you pick the specific chart?"
      ],
      "metadata": {
        "id": "bbFf2-_FphqN"
      }
    },
    {
      "cell_type": "markdown",
      "source": [
        "I picked a bar plot to visualize Sales by Assortment because it is a simple and effective way to compare the average Sales across different Assortment categories. The bars represent the Sales for each Assortment category, and the heights of the bars directly correspond to the Sales values."
      ],
      "metadata": {
        "id": "loh7H2nzphqN"
      }
    },
    {
      "cell_type": "markdown",
      "source": [
        "##### 2. What is/are the insight(s) found from the chart?"
      ],
      "metadata": {
        "id": "_ouA3fa0phqN"
      }
    },
    {
      "cell_type": "markdown",
      "source": [
        "From the Bar plot of Sales by Assortment, we can see that the stores with Assortment type \"a\" have the highest average Sales, \n",
        "\n",
        "followed by the stores with Assortment type \"c\" and then \"b\". "
      ],
      "metadata": {
        "id": "VECbqPI7phqN"
      }
    },
    {
      "cell_type": "markdown",
      "source": [
        "##### 3. Will the gained insights help creating a positive business impact? \n",
        "Are there any insights that lead to negative growth? Justify with specific reason."
      ],
      "metadata": {
        "id": "Seke61FWphqN"
      }
    },
    {
      "cell_type": "markdown",
      "source": [
        "One actionable insight from the analysis of the bivariate relationship between Sales and Assortment in the Rossman retail sales dataset is that sales are highest for stores with Assortment 'b'. By focusing on this specific combination, Rossman's owners can reduce their dependence on Assortments 'a' and 'c', which could lead to a more cost-effective strategy. By prioritizing this assortment and reallocating resources accordingly, Rossman's owners could potentially maximize revenue while minimizing costs."
      ],
      "metadata": {
        "id": "DW4_bGpfphqN"
      }
    },
    {
      "cell_type": "markdown",
      "source": [
        "#### Chart - 7"
      ],
      "metadata": {
        "id": "PIIx-8_IphqN"
      }
    },
    {
      "cell_type": "code",
      "source": [
        "# Chart - # Plot the relationship between Sales and DayOfWeek\n",
        "sns.lineplot(x=\"DayOfWeek\", y=\"Sales\", data=data)\n",
        "plt.title(\"Sales vs. DayOfWeek\")\n",
        "plt.show()\n"
      ],
      "metadata": {
        "id": "lqAIGUfyphqO"
      },
      "execution_count": null,
      "outputs": []
    },
    {
      "cell_type": "markdown",
      "source": [
        "##### 1. Why did you pick the specific chart?"
      ],
      "metadata": {
        "id": "t27r6nlMphqO"
      }
    },
    {
      "cell_type": "markdown",
      "source": [
        "DayOfWeek in the Rossman retail sales dataset because it is an effective way to show the trend of sales over time. A line plot can help to identify any patterns or trends in the data and show how sales vary by day of the week.\n",
        "\n"
      ],
      "metadata": {
        "id": "iv6ro40sphqO"
      }
    },
    {
      "cell_type": "markdown",
      "source": [
        "##### 2. What is/are the insight(s) found from the chart?"
      ],
      "metadata": {
        "id": "r2jJGEOYphqO"
      }
    },
    {
      "cell_type": "markdown",
      "source": [
        "\n",
        "\n",
        "*   There is a consistent pattern of higher sales on weekends: The line plot may show that sales are generally higher on Saturdays and Sundays compared to weekdays.\n",
        "\n",
        "*   Sales peak around the middle of the week: In addition to higher sales on weekends, the line plot may also show a peak in sales around the middle of the week, on Wednesdays or Thursdays. \n",
        "\n",
        "\n",
        "*   Sales may be lower on certain weekdays: The line plot may also reveal that sales are consistently lower on certain weekdays, such as Mondays or Tuesdays.\n",
        "\n"
      ],
      "metadata": {
        "id": "Po6ZPi4hphqO"
      }
    },
    {
      "cell_type": "markdown",
      "source": [
        "##### 3. Will the gained insights help creating a positive business impact? \n",
        "Are there any insights that lead to negative growth? Justify with specific reason."
      ],
      "metadata": {
        "id": "b0JNsNcRphqO"
      }
    },
    {
      "cell_type": "markdown",
      "source": [
        "In summary, the insights gained from the line plot can help create a positive business impact, Due to the fact that best 2 days are witnessing properly income, keep can target final 5 days in every week to take advantage of extra sales. It could run interesting gives and attract more customers on weekdays to generate extra revenue."
      ],
      "metadata": {
        "id": "xvSq8iUTphqO"
      }
    },
    {
      "cell_type": "markdown",
      "source": [
        "#### Chart - 8"
      ],
      "metadata": {
        "id": "BZR9WyysphqO"
      }
    },
    {
      "cell_type": "code",
      "source": [
        "# Chart - the relationship between Sales and StoreType\n",
        "# Create the grouped bar chart\n",
        "sales_by_storetype = data.groupby('StoreType')['Sales'].mean().reset_index()\n",
        "# Create the grouped bar chart\n",
        "sns.catplot(x='StoreType', y='Sales', kind='bar', data=sales_by_storetype, palette='muted')\n",
        "# Set the chart title and axis labels\n",
        "plt.title('Average Sales by Store Type')\n",
        "plt.xlabel('Store Type')\n",
        "plt.ylabel('Average Sales')\n",
        "\n",
        "# Show the chart\n",
        "plt.show()"
      ],
      "metadata": {
        "id": "TdPTWpAVphqO"
      },
      "execution_count": null,
      "outputs": []
    },
    {
      "cell_type": "markdown",
      "source": [
        "##### 1. Why did you pick the specific chart?"
      ],
      "metadata": {
        "id": "jj7wYXLtphqO"
      }
    },
    {
      "cell_type": "markdown",
      "source": [
        "A grouped bar chart is an effective choice to visualize the relationship between Sales and StoreType because it can provide valuable insights into the performance of different store types in terms of sales, and can help guide retailers in their decision-making processes."
      ],
      "metadata": {
        "id": "Ob8u6rCTphqO"
      }
    },
    {
      "cell_type": "markdown",
      "source": [
        "##### 2. What is/are the insight(s) found from the chart?"
      ],
      "metadata": {
        "id": "eZrbJ2SmphqO"
      }
    },
    {
      "cell_type": "markdown",
      "source": [
        "*    Store type B has the highest average sales compared to the other store types, indicating that it is the most successful store type in terms of sales.\n",
        "\n",
        "*    Store types A and C have relatively similar average sales, but both have lower average sales compared to Store types B and D.\n",
        "\n",
        "*    Store type D has the lowest average sales of all store types, indicating that it is the least successful store type in terms of sales.\n",
        "\n",
        "*    The variation in sales between the different store types is quite significant, with Store type B having almost twice the average sales of Store type D."
      ],
      "metadata": {
        "id": "mZtgC_hjphqO"
      }
    },
    {
      "cell_type": "markdown",
      "source": [
        "##### 3. Will the gained insights help creating a positive business impact? \n",
        "Are there any insights that lead to negative growth? Justify with specific reason."
      ],
      "metadata": {
        "id": "rFu4xreNphqO"
      }
    },
    {
      "cell_type": "markdown",
      "source": [
        "The insights gained from the relationship between Sales and StoreType chart can help create a positive business impact for Rossman retail owners.By understanding the sales performance of each store type, Rossman owners can make informed decisions about where to allocate resources, such as staffing, inventory, and marketing, to optimize sales and profit margins"
      ],
      "metadata": {
        "id": "ey_0qi68phqO"
      }
    },
    {
      "cell_type": "markdown",
      "source": [
        "#### Chart - 9"
      ],
      "metadata": {
        "id": "YJ55k-q6phqO"
      }
    },
    {
      "cell_type": "code",
      "source": [
        "# Chart - the relationship between Sales and CompetitionDistance\n",
        "plt.figure(figsize=(7,7))\n",
        "sns.scatterplot(x='CompetitionDistance', y='Sales', data=data)\n",
        "# Add labels and title\n",
        "plt.xlabel('Competition Distance')\n",
        "plt.ylabel('Sales')\n",
        "plt.title('Sales vs Competition Distance')\n",
        "plt.show()"
      ],
      "metadata": {
        "id": "B2aS4O1ophqO"
      },
      "execution_count": null,
      "outputs": []
    },
    {
      "cell_type": "markdown",
      "source": [
        "##### 1. Why did you pick the specific chart?"
      ],
      "metadata": {
        "id": "gCFgpxoyphqP"
      }
    },
    {
      "cell_type": "markdown",
      "source": [
        "I picked a scatter plot to visualize the relationship between Sales and CompetitionDistance in the Rossman retail sales dataset because it is an effective way to display the relationship between two continuous variables."
      ],
      "metadata": {
        "id": "TVxDimi2phqP"
      }
    },
    {
      "cell_type": "markdown",
      "source": [
        "##### 2. What is/are the insight(s) found from the chart?"
      ],
      "metadata": {
        "id": "OVtJsKN_phqQ"
      }
    },
    {
      "cell_type": "markdown",
      "source": [
        "The scatter plot of Sales vs CompetitionDistance shows that there is a weak negative correlation between the two variables.The scatter plot also shows that there are a few outliers in the data, where some stores have extremely high sales despite having high competition distances, and some stores have low sales despite having low competition distances."
      ],
      "metadata": {
        "id": "ngGi97qjphqQ"
      }
    },
    {
      "cell_type": "markdown",
      "source": [
        "##### 3. Will the gained insights help creating a positive business impact? \n",
        "Are there any insights that lead to negative growth? Justify with specific reason."
      ],
      "metadata": {
        "id": "lssrdh5qphqQ"
      }
    },
    {
      "cell_type": "markdown",
      "source": [
        "The insights gained from the Sales vs CompetitionDistance scatter plot can potentially create a positive business impact for Rossman retail stores. By identifying stores that are performing well despite high competition distances, the owners can learn from their strategies and apply them to other stores to potentially increase their sales."
      ],
      "metadata": {
        "id": "tBpY5ekJphqQ"
      }
    },
    {
      "cell_type": "markdown",
      "source": [
        "#### Chart - 10"
      ],
      "metadata": {
        "id": "U2RJ9gkRphqQ"
      }
    },
    {
      "cell_type": "code",
      "source": [
        "# Chart - the relationship between Sales and CompetitionOpenSinceYear\n",
        "plt.figure(figsize=(15,10))\n",
        "sns.set_style(\"darkgrid\")\n",
        "ax = sns.barplot(x=data['CompetitionOpenSinceYear'],y=data['Sales'],edgecolor='black')\n",
        "\n",
        "plt.show()"
      ],
      "metadata": {
        "id": "GM7a4YP4phqQ"
      },
      "execution_count": null,
      "outputs": []
    },
    {
      "cell_type": "markdown",
      "source": [
        "##### 1. Why did you pick the specific chart?"
      ],
      "metadata": {
        "id": "1M8mcRywphqQ"
      }
    },
    {
      "cell_type": "markdown",
      "source": [
        "A  plot would show the individual Sales values for each value of CompetitionOpenSinceYear,\n",
        "\n",
        "\n"
      ],
      "metadata": {
        "id": "8agQvks0phqQ"
      }
    },
    {
      "cell_type": "markdown",
      "source": [
        "##### 2. What is/are the insight(s) found from the chart\n",
        "\n",
        "\n"
      ],
      "metadata": {
        "id": "tgIPom80phqQ"
      }
    },
    {
      "cell_type": "markdown",
      "source": [
        "From the Plot we are able to tell that sales are excessive at some point of the yr 1900, as there are only a few save had been operated of Rossmann so there is much less opposition and sales are high. However as year skip on variety of shops extended which means competition also extended and this leads to decline within the income."
      ],
      "metadata": {
        "id": "Qp13pnNzphqQ"
      }
    },
    {
      "cell_type": "markdown",
      "source": [
        "##### 3. Will the gained insights help creating a positive business impact? \n",
        "Are there any insights that lead to negative growth? Justify with specific reason."
      ],
      "metadata": {
        "id": "JMzcOPDDphqR"
      }
    },
    {
      "cell_type": "markdown",
      "source": [
        "Considering the fact that almost every next 12 months reports unexpected drop/upward push inside the sales, proprietors want to work on their stockings and advertising methods. The primary cause for this unexpected alternate may be explored extra deeply and a achievable method to it can be reached."
      ],
      "metadata": {
        "id": "R4Ka1PC2phqR"
      }
    },
    {
      "cell_type": "markdown",
      "source": [
        "#### Chart - 11"
      ],
      "metadata": {
        "id": "x-EpHcCOp1ci"
      }
    },
    {
      "cell_type": "code",
      "source": [
        "# Chart - the relationship between Sales and SchoolHoliday\n",
        "# Group the data by school holidays and calculate the mean sales\n",
        "sales_by_school_holiday = data.groupby(\"SchoolHoliday\")[\"Sales\"].mean()\n",
        "\n",
        "# Plot the mean sales by school holidays using a bar plot\n",
        "sns.barplot(x=sales_by_school_holiday.index, y=sales_by_school_holiday.values)\n",
        "plt.xlabel(\"School holiday\")\n",
        "plt.ylabel(\"Mean sales\")\n",
        "plt.title(\"Mean sales by school holidays\")\n",
        "plt.show()\n"
      ],
      "metadata": {
        "id": "mAQTIvtqp1cj"
      },
      "execution_count": null,
      "outputs": []
    },
    {
      "cell_type": "markdown",
      "source": [
        "##### 1. Why did you pick the specific chart?"
      ],
      "metadata": {
        "id": "X_VqEhTip1ck"
      }
    },
    {
      "cell_type": "markdown",
      "source": [
        " It's particularly useful when we want to compare the average values of a variable across different groups or categories."
      ],
      "metadata": {
        "id": "-vsMzt_np1ck"
      }
    },
    {
      "cell_type": "markdown",
      "source": [
        "##### 2. What is/are the insight(s) found from the chart?"
      ],
      "metadata": {
        "id": "8zGJKyg5p1ck"
      }
    },
    {
      "cell_type": "markdown",
      "source": [
        "Sales tend to be higher during non-School Holiday periods compared to School Holidays, indicating that School Holidays may have a negative impact on sales.\n",
        "\n",
        "The difference in Sales between School Holidays and non-School Holidays may vary depending on the specific School Holiday period. \n",
        "\n",
        "Sales during non-School Holiday periods may be more stable and predictable compared to School Holidays, which may experience fluctuations in demand due to factors such as travel and leisure activities."
      ],
      "metadata": {
        "id": "ZYdMsrqVp1ck"
      }
    },
    {
      "cell_type": "markdown",
      "source": [
        "##### 3. Will the gained insights help creating a positive business impact? \n",
        "Are there any insights that lead to negative growth? Justify with specific reason."
      ],
      "metadata": {
        "id": "PVzmfK_Ep1ck"
      }
    },
    {
      "cell_type": "markdown",
      "source": [
        "The insights gained from analyzing the relationship between sales and school holidays can certainly help in creating a positive business impact. If we find that sales are significantly higher on school holidays than on non-school holidays, a business can plan its promotions and advertising campaigns accordingly to capitalize on this trend. "
      ],
      "metadata": {
        "id": "druuKYZpp1ck"
      }
    },
    {
      "cell_type": "markdown",
      "source": [
        "#### Chart - 12"
      ],
      "metadata": {
        "id": "n3dbpmDWp1ck"
      }
    },
    {
      "cell_type": "code",
      "source": [
        "# Chart - Boar plot of Sales vs Promo2\n",
        "sns.barplot(x=data['Promo2'],y=data['Sales'],edgecolor='black')\n",
        "plt.xlabel(\"Promotion 2\")\n",
        "plt.ylabel(\"Sales\")\n",
        "plt.title(\"Sales vs Promotion 2\")\n",
        "plt.show()"
      ],
      "metadata": {
        "id": "bwevp1tKp1ck"
      },
      "execution_count": null,
      "outputs": []
    },
    {
      "cell_type": "markdown",
      "source": [
        "##### 1. Why did you pick the specific chart?"
      ],
      "metadata": {
        "id": "ylSl6qgtp1ck"
      }
    },
    {
      "cell_type": "markdown",
      "source": [
        "his plot can help you identify any differences in the average sales for stores with and without Promo2. It can also help you determine the effectiveness of the Promo2 program and whether it has a significant impact on sales."
      ],
      "metadata": {
        "id": "m2xqNkiQp1ck"
      }
    },
    {
      "cell_type": "markdown",
      "source": [
        "##### 2. What is/are the insight(s) found from the chart?"
      ],
      "metadata": {
        "id": "ZWILFDl5p1ck"
      }
    },
    {
      "cell_type": "markdown",
      "source": [
        "The bar plot comparing the average sales by Promo2 shows that stores with Promo2 have slightly higher average sales than stores without Promo2. This suggests that Promo2 has a positive impact on sales, but the difference in sales may not be significant."
      ],
      "metadata": {
        "id": "x-lUsV2mp1ck"
      }
    },
    {
      "cell_type": "markdown",
      "source": [
        "##### 3. Will the gained insights help creating a positive business impact? \n",
        "Are there any insights that lead to negative growth? Justify with specific reason."
      ],
      "metadata": {
        "id": "M7G43BXep1ck"
      }
    },
    {
      "cell_type": "markdown",
      "source": [
        "he insight gained from the chart that participating in Promo2 can have a positive impact on sales can potentially lead to a positive business impact.There are no insights from the chart that suggest negative growth. However, it is possible that running a poorly planned or executed Promo2 program can lead to negative growth. "
      ],
      "metadata": {
        "id": "5wwDJXsLp1cl"
      }
    },
    {
      "cell_type": "markdown",
      "source": [
        "#### Chart - 13"
      ],
      "metadata": {
        "id": "Ag9LCva-p1cl"
      }
    },
    {
      "cell_type": "code",
      "source": [
        "#chart - Barplot for Sales vs Promo2sinceYear\n",
        "plt.figure(figsize=(10, 6))\n",
        "plots=sns.barplot(x=data['Promo2SinceYear'],y=data['Sales'],edgecolor='black')\n",
        "plt.xlabel(\"Promo2 Since Year\")\n",
        "plt.ylabel(\"Total Sales\")\n",
        "plt.title(\"Total Sales by Promo2 Since Year\")\n",
        "plt.show()"
      ],
      "metadata": {
        "id": "IBIMoilf90RI"
      },
      "execution_count": null,
      "outputs": []
    },
    {
      "cell_type": "markdown",
      "source": [
        "#####1.Why did you pick the specific chart?"
      ],
      "metadata": {
        "id": "RT0vcW442kS9"
      }
    },
    {
      "cell_type": "markdown",
      "source": [
        "In this plot, we are showing the distribution of Sales for each Promo2SinceYear value. The bar  indicates the density of Sales values for that Promo2SinceYear value."
      ],
      "metadata": {
        "id": "2O1VsjR52r_I"
      }
    },
    {
      "cell_type": "markdown",
      "source": [
        "##### 2. What is/are the insight(s) found from the chart?"
      ],
      "metadata": {
        "id": "KAWVmJOK2y0d"
      }
    },
    {
      "cell_type": "markdown",
      "source": [
        "The insights that can be found from the Sales vs Promo2SinceYear chart \n",
        "\n",
        "*   This barplot explains that sales had been nonetheless the best when the shop wasn't walking any consecutive promotional events. However in 2014, the sales were clearly shoot up and they're recorded as second highest. Correct nice merchandise, higher deals, shutdown of competitions and so forth may be the reasons.\n",
        "\n"
      ],
      "metadata": {
        "id": "rCZX38iG26pN"
      }
    },
    {
      "cell_type": "markdown",
      "source": [
        "#####Will the gained insights help creating a positive business impact?\n",
        "Are there any insights that lead to negative growth? Justify with specific reason."
      ],
      "metadata": {
        "id": "vcQUERkVBkg8"
      }
    },
    {
      "cell_type": "markdown",
      "source": [
        "The insights are certainly helpful as they may be highlighting one of the most vital aspect about consecutive promotions. Sincerely, such promotions aren't enough to convert customers into shoppers. The store wishes to come up with more modern and more rewardful solutions."
      ],
      "metadata": {
        "id": "NLYX0dMUBuM-"
      }
    },
    {
      "cell_type": "markdown",
      "source": [
        "####  Chart - 14 "
      ],
      "metadata": {
        "id": "68otvE6ZykfQ"
      }
    },
    {
      "cell_type": "code",
      "source": [
        "# Chart - #box plot for Sales\" and \"CompetitionOpenSinceMonth\"\n",
        "sns.boxplot(data=data, x='CompetitionOpenSinceMonth', y='Sales')\n",
        "plt.show()"
      ],
      "metadata": {
        "id": "EUfxeq9-p1cl"
      },
      "execution_count": null,
      "outputs": []
    },
    {
      "cell_type": "markdown",
      "source": [
        "##### 1. Why did you pick the specific chart?"
      ],
      "metadata": {
        "id": "E6MkPsBcp1cl"
      }
    },
    {
      "cell_type": "markdown",
      "source": [
        "Box plots can help us identify the median and quartiles of the data, as well as any outliers. A box plot can help us see how sales have changed over time and how the distribution of sales has varied between different months"
      ],
      "metadata": {
        "id": "V22bRsFWp1cl"
      }
    },
    {
      "cell_type": "markdown",
      "source": [
        "##### 2. What is/are the insight(s) found from the chart?"
      ],
      "metadata": {
        "id": "2cELzS2fp1cl"
      }
    },
    {
      "cell_type": "markdown",
      "source": [
        " The insights that could be gained from examining the relationship between \"Sales\" and \"CompetitionOpenSinceMonth\"\n",
        "\n",
        "*   The moths of  January, February, and June all have relatively low medians, suggesting that these months may be more challenging for existing stores when facing new competition\n",
        "\n",
        "*   On the other hand, the boxes for April and November have higher medians, suggesting that existing stores may be more resilient to new competition during these months. \n",
        "\n",
        "\n",
        "*   Additionally, there are some outliers in the data, such as the high sales values in September, that may be worth investigating further to understand what factors contributed to those sales.\n",
        "\n"
      ],
      "metadata": {
        "id": "ozQPc2_Ip1cl"
      }
    },
    {
      "cell_type": "markdown",
      "source": [
        "##### 3. Will the gained insights help creating a positive business impact? \n",
        "Are there any insights that lead to negative growth? Justify with specific reason."
      ],
      "metadata": {
        "id": "3MPXvC8up1cl"
      }
    },
    {
      "cell_type": "markdown",
      "source": [
        "The insights gained from analyzing the relationship between \"Sales\" and \"CompetitionOpenSinceMonth\" could potentially help create a positive business impact, it's important to approach these insights with a critical and strategic mindset and to consider the broader context of the business when making decisions."
      ],
      "metadata": {
        "id": "GL8l1tdLp1cl"
      }
    },
    {
      "cell_type": "markdown",
      "source": [
        "#### Chart - 14 - Correlation Heatmap"
      ],
      "metadata": {
        "id": "NC_X3p0fY2L0"
      }
    },
    {
      "cell_type": "code",
      "source": [
        "# Correlation Heatmap visualization code\n",
        "sns.heatmap(data.corr(), annot=True ,cmap='coolwarm')"
      ],
      "metadata": {
        "id": "xyC9zolEZNRQ"
      },
      "execution_count": null,
      "outputs": []
    },
    {
      "cell_type": "markdown",
      "source": [
        "##### 1. Why did you pick the specific chart?"
      ],
      "metadata": {
        "id": "UV0SzAkaZNRQ"
      }
    },
    {
      "cell_type": "markdown",
      "source": [
        "Heat maps are a good choice when you want to visualize the correlations between multiple variables in a dataset. They use color to represent the magnitude of the values in a matrix, making it easy to identify strong positive or negative correlations between pairs of variables."
      ],
      "metadata": {
        "id": "DVPuT8LYZNRQ"
      }
    },
    {
      "cell_type": "markdown",
      "source": [
        "##### 2. What is/are the insight(s) found from the chart?"
      ],
      "metadata": {
        "id": "YPEH6qLeZNRQ"
      }
    },
    {
      "cell_type": "markdown",
      "source": [
        "*   Sales are strongly correlated with the number of customers in the store (correlation coefficient of 0.89), indicating that stores with more customers tend to have higher sales.\n",
        "\n",
        "*   Sales are weakly correlated with the competition distance (correlation coefficient of -0.03), indicating that the distance to the nearest competitor has little effect on sales.\n",
        "\n",
        "*   Sales are moderately correlated with whether or not a store is running a promotion (correlation coefficient of 0.38), indicating that promotional activities can have a positive effect on sales.\n",
        "\n",
        "*   The number of customers in the store is weakly correlated with the competition distance (correlation coefficient of -0.15), indicating that the distance to the nearest competitor may affect customer behavior to some extent.\n",
        "\n",
        "*   The number of customers in the store is also weakly correlated with whether or not a store is running a promotion (correlation coefficient of 0.32), indicating that promotions may be one factor that affects customer behavior."
      ],
      "metadata": {
        "id": "bfSqtnDqZNRR"
      }
    },
    {
      "cell_type": "markdown",
      "source": [
        "##### 3. Will the gained insights help creating a positive business impact? \n",
        "Are there any insights that lead to negative growth? Justify with specific reason."
      ],
      "metadata": {
        "id": "l-RJfOMsE55V"
      }
    },
    {
      "cell_type": "markdown",
      "source": [
        "The insights gained from the heatmap can help create a positive business impact if they are used to guide informed decision-making and optimization of business processes. \n",
        "\n",
        "However, some insights from the heatmap may lead to negative growth if they are not properly understood and managed\n",
        "\n",
        "Overall, the insights gained from the heatmap are valuable for understanding the relationships between variables in the Rossmann retail dataset, but they need to be interpreted and used carefully to ensure positive business outcomes."
      ],
      "metadata": {
        "id": "P_6I6nFwEnt_"
      }
    },
    {
      "cell_type": "markdown",
      "source": [
        "#### Chart - 15 - Pair Plot "
      ],
      "metadata": {
        "id": "q29F0dvdveiT"
      }
    },
    {
      "cell_type": "markdown",
      "source": [
        "Since the pair plot for all the columns is taking more time so i had taken the columns which highly corelated with sales and plotting pair plot"
      ],
      "metadata": {
        "id": "JOkie7YkIN4b"
      }
    },
    {
      "cell_type": "code",
      "source": [
        "\n",
        "# Select the top 5columns that are correlated with Sales\n",
        "g = sns.PairGrid(data[['Sales','Customers','CompetitionDistance', 'CompetitionOpenSinceMonth', 'Promo2SinceWeek']])\n",
        "g.map_diag(sns.histplot)\n",
        "g.map_offdiag(sns.scatterplot)\n",
        "g.add_legend()\n",
        "     "
      ],
      "metadata": {
        "id": "oXXQvr1qJKtH"
      },
      "execution_count": null,
      "outputs": []
    },
    {
      "cell_type": "markdown",
      "source": [
        "##### 1. Why did you pick the specific chart?"
      ],
      "metadata": {
        "id": "EXh0U9oCveiU"
      }
    },
    {
      "cell_type": "markdown",
      "source": [
        "A pair plot is a useful type of graph for exploring relationships between multiple variables in a dataset. It displays scatter plots of all possible pairs of variables along the diagonal and histograms of each variable on the diagonal. This can help identify interesting patterns or trends in the data and may be useful for feature selection or building predictive models"
      ],
      "metadata": {
        "id": "eMmPjTByveiU"
      }
    },
    {
      "cell_type": "markdown",
      "source": [
        "##### 2. What is/are the insight(s) found from the chart?"
      ],
      "metadata": {
        "id": "22aHeOlLveiV"
      }
    },
    {
      "cell_type": "markdown",
      "source": [
        "Pairplot helped us to visualize the relationship between income and other variables, which include clients, Promotions, opposition, and college vacations Columns. This helped us to discover which variables might be useful for predicting income and tell the design for our system gaining knowledge of version."
      ],
      "metadata": {
        "id": "uPQ8RGwHveiV"
      }
    },
    {
      "cell_type": "markdown",
      "source": [
        "## ***5. Hypothesis Testing***"
      ],
      "metadata": {
        "id": "g-ATYxFrGrvw"
      }
    },
    {
      "cell_type": "markdown",
      "source": [
        "### Based on your chart experiments, define three hypothetical statements from the dataset. In the next three questions, perform hypothesis testing to obtain final conclusion about the statements through your code and statistical testing."
      ],
      "metadata": {
        "id": "Yfr_Vlr8HBkt"
      }
    },
    {
      "cell_type": "markdown",
      "source": [
        "**Statement - 1**\n",
        "\n",
        "Null Hypothesis (H0): There is no correlation between the sales and customers.\n",
        "\n",
        "Alternative Hypothesis (Ha): There is a significant correlation between the two variables\n",
        "\n",
        "**Statement - 2**\n",
        "\n",
        "Null hypothesis (H0): There is no correlation between Sales and School Holiday\n",
        "\n",
        "Alternative hypothesis (Ha): There is a signifance correlation between Sales and School Holiday.\n",
        "\n",
        "**Statement - 3**\n",
        "\n",
        "Null Hypothesis (H0): There is no difference in sales between stores with and without a promotion on a given day.\n",
        "\n",
        "Alternative Hypothesis (Ha): Stores with promotions have higher sales than stores without promotions on a given day."
      ],
      "metadata": {
        "id": "-7MS06SUHkB-"
      }
    },
    {
      "cell_type": "markdown",
      "source": [
        "### Hypothetical Statement - 1"
      ],
      "metadata": {
        "id": "8yEUt7NnHlrM"
      }
    },
    {
      "cell_type": "markdown",
      "source": [
        "#### 1. State Your research hypothesis as a null hypothesis and alternate hypothesis."
      ],
      "metadata": {
        "id": "tEA2Xm5dHt1r"
      }
    },
    {
      "cell_type": "markdown",
      "source": [
        "Null Hypothesis: There is no correlation between the sales and customers.\n",
        "\n",
        "Alternative Hypothesis:  There is a significant correlation between the two variables"
      ],
      "metadata": {
        "id": "HI9ZP0laH0D-"
      }
    },
    {
      "cell_type": "markdown",
      "source": [
        "#### 2. Perform an appropriate statistical test."
      ],
      "metadata": {
        "id": "I79__PHVH19G"
      }
    },
    {
      "cell_type": "code",
      "source": [
        "from scipy.stats import pearsonr\n",
        "\n",
        "# Extract sales and customer data\n",
        "customers = data['Customers']\n",
        "sales = data['Sales']\n",
        "\n",
        "# Conduct correlation test\n",
        "corr, p_val = pearsonr(customers,sales)\n",
        "\n",
        "# Print correlation coefficient and p-value\n",
        "print('Correlation Coefficient:', corr)\n",
        "print('P-Value:', p_val)\n",
        "alpha=0.05\n",
        "if p_val> alpha:\n",
        "  print('Accept Null Hypothesis')\n",
        "else:\n",
        "  print('Rejected Null Hypothesis')\n",
        "\n"
      ],
      "metadata": {
        "id": "oZrfquKtyian"
      },
      "execution_count": null,
      "outputs": []
    },
    {
      "cell_type": "markdown",
      "source": [
        "##### Which statistical test have you done to obtain P-Value?"
      ],
      "metadata": {
        "id": "Ou-I18pAyIpj"
      }
    },
    {
      "cell_type": "markdown",
      "source": [
        "I had used  Pearson correlation test,as it can be used to determine the relationship between two variables, such as sales and the number of customers"
      ],
      "metadata": {
        "id": "s2U0kk00ygSB"
      }
    },
    {
      "cell_type": "markdown",
      "source": [
        "##### Why did you choose the specific statistical test?"
      ],
      "metadata": {
        "id": "fF3858GYyt-u"
      }
    },
    {
      "cell_type": "markdown",
      "source": [
        "Correlation tests are used to measure the strength and direction of the linear relationship between two variables. In the case of the Rossman retail dataset, it can be useful to use correlation tests to see if there is a relationship between customer and sales. "
      ],
      "metadata": {
        "id": "HO4K0gP5y3B4"
      }
    },
    {
      "cell_type": "markdown",
      "source": [
        "### Hypothetical Statement - 2"
      ],
      "metadata": {
        "id": "4_0_7-oCpUZd"
      }
    },
    {
      "cell_type": "markdown",
      "source": [
        "#### 1. State Your research hypothesis as a null hypothesis and alternate hypothesis."
      ],
      "metadata": {
        "id": "hwyV_J3ipUZe"
      }
    },
    {
      "cell_type": "markdown",
      "source": [
        "Null Hypothesis: There is no difference in sales between stores with and without a promotion on a given day.\n",
        "\n",
        "Alternative Hypothesis: Stores with promotions have higher sales than stores without promotions on a given day."
      ],
      "metadata": {
        "id": "FnpLGJ-4pUZe"
      }
    },
    {
      "cell_type": "markdown",
      "source": [
        "#### 2. Perform an appropriate statistical test."
      ],
      "metadata": {
        "id": "3yB-zSqbpUZe"
      }
    },
    {
      "cell_type": "code",
      "source": [
        "# Perform Statistical Test to obtain P-Value\n",
        "from scipy.stats import ttest_ind\n",
        "\n",
        "# Extract sales data for stores with and without promotions\n",
        "sales_with_promo = data[data['Promo'] == 1]['Sales']\n",
        "sales_without_promo = data[data['Promo'] == 0]['Sales']\n",
        "\n",
        "# Conduct t-test\n",
        "t_stat, p_val = ttest_ind(sales_with_promo, sales_without_promo)\n",
        "print('P-Value:', p_val)\n",
        "alpha=0.05\n",
        "if p_val> alpha:\n",
        "  print('Accept Null Hypothesis')\n",
        "else:\n",
        "  print('Rejected Null Hypothesis')"
      ],
      "metadata": {
        "id": "sWxdNTXNpUZe"
      },
      "execution_count": null,
      "outputs": []
    },
    {
      "cell_type": "markdown",
      "source": [
        "##### Which statistical test have you done to obtain P-Value?"
      ],
      "metadata": {
        "id": "dEUvejAfpUZe"
      }
    },
    {
      "cell_type": "markdown",
      "source": [
        "I had use a two-sample t-test can be used to test the difference in sales between stores with and without promotions"
      ],
      "metadata": {
        "id": "oLDrPz7HpUZf"
      }
    },
    {
      "cell_type": "markdown",
      "source": [
        "##### Why did you choose the specific statistical test?"
      ],
      "metadata": {
        "id": "Fd15vwWVpUZf"
      }
    },
    {
      "cell_type": "markdown",
      "source": [
        "A two-sample test is used when we want to compare the means of two independent groups. In the case of the Rossman retail dataset, a two-sample t-test can be used to compare the mean sales of stores with and without promotions. By performing this test, we can determine if there is a significant difference in sales between the two groups and make informed decisions regarding the effectiveness of promotions in increasing sales."
      ],
      "metadata": {
        "id": "4xOGYyiBpUZf"
      }
    },
    {
      "cell_type": "markdown",
      "source": [
        "### Hypothetical Statement - 3"
      ],
      "metadata": {
        "id": "bn_IUdTipZyH"
      }
    },
    {
      "cell_type": "markdown",
      "source": [
        "#### 1. State Your research hypothesis as a null hypothesis and alternate hypothesis."
      ],
      "metadata": {
        "id": "49K5P_iCpZyH"
      }
    },
    {
      "cell_type": "markdown",
      "source": [
        "Null hypothesis (H0): There is no correlation between Sales and School Holiday\n",
        "\n",
        "Alternative hypothesis (Ha): There is a correlation between Sales and School Holiday."
      ],
      "metadata": {
        "id": "7gWI5rT9pZyH"
      }
    },
    {
      "cell_type": "markdown",
      "source": [
        "#### 2. Perform an appropriate statistical test."
      ],
      "metadata": {
        "id": "Nff-vKELpZyI"
      }
    },
    {
      "cell_type": "code",
      "source": [
        "# Perform Statistical Test to obtain P-Value\n",
        "from scipy.stats import pearsonr\n",
        "\n",
        "# Extract sales and customer data\n",
        "SchoolHoliday = data['SchoolHoliday']\n",
        "sales = data['Sales']\n",
        "\n",
        "# Conduct correlation test\n",
        "corr, p_val = pearsonr(sales, SchoolHoliday)\n",
        "\n",
        "# Print correlation coefficient and p-value\n",
        "print('P-Value:', p_val)\n",
        "\n",
        "alpha=0.05\n",
        "if p_val> alpha:\n",
        "  print('Accept Null Hypothesis')\n",
        "else:\n",
        "  print('Rejected Null Hypothesis')"
      ],
      "metadata": {
        "id": "s6AnJQjtpZyI"
      },
      "execution_count": null,
      "outputs": []
    },
    {
      "cell_type": "markdown",
      "source": [
        "##### Which statistical test have you done to obtain P-Value?"
      ],
      "metadata": {
        "id": "kLW572S8pZyI"
      }
    },
    {
      "cell_type": "markdown",
      "source": [
        "I had used Pearson correlation test,as it can be used to determine the relationship between two variables, such as sales and the number of customers"
      ],
      "metadata": {
        "id": "ytWJ8v15pZyI"
      }
    },
    {
      "cell_type": "markdown",
      "source": [
        "##### Why did you choose the specific statistical test?"
      ],
      "metadata": {
        "id": "dWbDXHzopZyI"
      }
    },
    {
      "cell_type": "markdown",
      "source": [
        "Correlation tests are used to degree the power and route of the linear relationship among two variables. Within the case of the Rossman retail dataset, it may be useful to use correlation checks to peer if there's a dating between patron and income."
      ],
      "metadata": {
        "id": "M99G98V6pZyI"
      }
    },
    {
      "cell_type": "markdown",
      "source": [
        "## ***6. Feature Engineering & Data Pre-processing***"
      ],
      "metadata": {
        "id": "yLjJCtPM0KBk"
      }
    },
    {
      "cell_type": "markdown",
      "source": [
        "### 1. Handling Missing Values"
      ],
      "metadata": {
        "id": "xiyOF9F70UgQ"
      }
    },
    {
      "cell_type": "code",
      "source": [
        "# Handling Missing Values & Missing Value Imputation\n",
        "data.isna().sum().sort_values(ascending=False)"
      ],
      "metadata": {
        "id": "iRsAHk1K0fpS"
      },
      "execution_count": null,
      "outputs": []
    },
    {
      "cell_type": "markdown",
      "source": [
        "#### What all missing value imputation techniques have you used and why did you use those techniques?"
      ],
      "metadata": {
        "id": "7wuGOrhz0itI"
      }
    },
    {
      "cell_type": "markdown",
      "source": [
        "I had devide my null value columns into 3 parts \n",
        "\n",
        "The first part is replaced with 0.\n",
        "\n",
        "The second part is replaced with mode.\n",
        "\n",
        "The third part was replaced with meadian."
      ],
      "metadata": {
        "id": "1ixusLtI0pqI"
      }
    },
    {
      "cell_type": "markdown",
      "source": [
        "### 2. Handling Outliers"
      ],
      "metadata": {
        "id": "id1riN9m0vUs"
      }
    },
    {
      "cell_type": "markdown",
      "source": [
        "a) For Continous Variables "
      ],
      "metadata": {
        "id": "oshAEOv_a87r"
      }
    },
    {
      "cell_type": "markdown",
      "source": [
        "Outlier Detection\n"
      ],
      "metadata": {
        "id": "6j1RqWKlXmcG"
      }
    },
    {
      "cell_type": "code",
      "source": [
        "# Define continuous variables to plot in box plots\n",
        "continuous_vars = ['Sales', 'Customers', 'CompetitionDistance', 'CompetitionOpenSinceMonth',\n",
        "                   'CompetitionOpenSinceYear', 'Promo2SinceWeek', 'Promo2SinceYear']\n",
        "\n",
        "# Set up subplots\n",
        "fig, axes = plt.subplots(nrows=5, ncols=2, figsize=(20, 15))\n",
        "ax = axes.ravel()\n",
        "\n",
        "# Create box plots for each variable\n",
        "for i, column in enumerate(continuous_vars):\n",
        "    sns.boxplot(x=data[column], ax=ax[i], color='skyblue')\n",
        "    ax[i].set_title(column, fontsize=14, weight='bold')\n",
        "\n",
        "# Hide unused subplots\n",
        "for i in range(len(continuous_vars), len(ax)):\n",
        "    ax[i].axis('off')\n",
        "\n",
        "# Adjust spacing and display plot\n",
        "fig.subplots_adjust(hspace=0.5)\n",
        "plt.show()\n",
        "\n"
      ],
      "metadata": {
        "id": "iIM0vSKMXyCg"
      },
      "execution_count": null,
      "outputs": []
    },
    {
      "cell_type": "markdown",
      "source": [
        "##### There are lots of outlier in our dataset, we need to remove them before we train our model.Outliers can have a significant impact on statistical analyses and machine learning models. If left untreated, outliers can distort the overall distribution of a dataset and cause inaccurate estimates of statistical measures such as the mean, median, and standard deviation. \n"
      ],
      "metadata": {
        "id": "nuDgzn1_6Zpr"
      }
    },
    {
      "cell_type": "code",
      "source": [
        "# Select the continuous variables\n",
        "continuous_vars = ['Sales', 'Customers', 'CompetitionDistance', 'CompetitionOpenSinceMonth',\n",
        "                   'CompetitionOpenSinceYear', 'Promo2SinceWeek', 'Promo2SinceYear']\n",
        "\n",
        "# Define the detect_outliers_iqr function\n",
        "def detect_outliers_iqr(data, columns):\n",
        "    outlier_masks = {}\n",
        "    outlier_percentages = {}\n",
        "    for column in columns:\n",
        "        q1 = data[column].quantile(0.25)\n",
        "        q3 = data[column].quantile(0.75)\n",
        "        iqr = q3 - q1\n",
        "        lower_bound = q1 - 1.5 * iqr\n",
        "        upper_bound = q3 + 1.5 * iqr\n",
        "        outlier_mask = (data[column] < lower_bound) | (data[column] > upper_bound)\n",
        "        outlier_masks[column] = outlier_mask\n",
        "        outlier_percentages[column] = outlier_mask.mean() * 100\n",
        "    return outlier_masks, outlier_percentages\n",
        "\n",
        "# Detect outliers using the IQR method\n",
        "outlier_masks, outlier_percentages = detect_outliers_iqr(data, continuous_vars)\n",
        "\n",
        "# Print the outlier percentages\n",
        "print(\"Outlier percentages:\")\n",
        "for column, percentage in outlier_percentages.items():\n",
        "    print(f\"{column}: {percentage:.2f}%\")\n"
      ],
      "metadata": {
        "id": "9-cMndpPTwoT"
      },
      "execution_count": null,
      "outputs": []
    },
    {
      "cell_type": "markdown",
      "source": [
        "###**INFERENCE**\n",
        "\n",
        "From above outlier detection test we got Outlier percentages: \n",
        "\n",
        "Sales: 2.62%\n",
        "\n",
        "Customers: 3.75%\n",
        "\n",
        "CompetitionDistance: 9.75%\n",
        "\n",
        "CompetitionOpenSinceMonth: 1.22%\n",
        "\n",
        "CompetitionOpenSinceYear: 2.71%\n",
        "\n",
        "Promo2SinceWeek: 0.00%\n",
        "\n",
        "Promo2SinceYear: 0.00%"
      ],
      "metadata": {
        "id": "lhQ_Bd-KCnmn"
      }
    },
    {
      "cell_type": "markdown",
      "source": [
        "### Outlier Treatment"
      ],
      "metadata": {
        "id": "RVrPxib_8Yio"
      }
    },
    {
      "cell_type": "code",
      "source": [
        "\n",
        "# function to remove outliers using IQR\n",
        "def remove_outliers_iqr(column):\n",
        "    Q1 = np.percentile(column, 25)\n",
        "    Q3 = np.percentile(column, 75)\n",
        "    IQR = Q3 - Q1\n",
        "    lower_bound = Q1 - 1.5 * IQR\n",
        "    upper_bound = Q3 + 1.5 * IQR\n",
        "    column = np.where(column > upper_bound, upper_bound, column)\n",
        "    column = np.where(column < lower_bound, lower_bound, column)\n",
        "    return column\n",
        "\n",
        "# function to remove outliers using z-score\n",
        "def remove_outliers_zscore(column):\n",
        "    z_scores = (column - column.mean()) / column.std()\n",
        "    abs_z_scores = np.abs(z_scores)\n",
        "    column = column[abs_z_scores < 3]\n",
        "    return column\n",
        "\n",
        "# list of continuous variables\n",
        "continuous_vars = ['Sales', 'Customers', 'CompetitionDistance', 'CompetitionOpenSinceMonth',\n",
        "                   'CompetitionOpenSinceYear', 'Promo2SinceWeek', 'Promo2SinceYear']\n",
        "\n",
        "# removing outliers using IQR\n",
        "for column in continuous_vars:\n",
        "    data[column] = remove_outliers_iqr(data[column])\n",
        "\n",
        "# removing outliers using z-score\n",
        "for column in continuous_vars:\n",
        "    data[column] = remove_outliers_zscore(data[column])\n",
        "\n",
        "# checking the number and percentage of remaining outliers using z-score\n",
        "for column in continuous_vars:\n",
        "    z_scores = (data[column] - data[column].mean()) / data[column].std()\n",
        "    abs_z_scores = np.abs(z_scores)\n",
        "    outliers = data[column][abs_z_scores > 3]\n",
        "    outlier_percentage = len(outliers) / len(data[column]) * 100\n",
        "    print(f\"Number of outliers in {column}: {len(outliers)} ({outlier_percentage:.2f}%)\")\n"
      ],
      "metadata": {
        "id": "3LfKUmWJKfF5"
      },
      "execution_count": null,
      "outputs": []
    },
    {
      "cell_type": "markdown",
      "source": [
        "**So we have no oulier left with our datset**"
      ],
      "metadata": {
        "id": "Hph2SXXEiS0B"
      }
    },
    {
      "cell_type": "markdown",
      "source": [
        "##### What all outlier treatment techniques have you used and why did you use those techniques?"
      ],
      "metadata": {
        "id": "578E2V7j08f6"
      }
    },
    {
      "cell_type": "markdown",
      "source": [
        "I had used both IQR and z-score methods which  are commonly used and have their own advantages and disadvantages.\n",
        "\n",
        "* IQR method is robust to outliers and works well when the data is not normally distributed or contains extreme values. However, it may remove valid data points that are outside of the outlier range.\n",
        "\n",
        "* Z-score method assumes the data is normally distributed and can identify outliers more accurately than IQR for normally distributed data. However, it may not work well if the data is not normally distributed.\n",
        "\n",
        "* Therefore i had used both the method"
      ],
      "metadata": {
        "id": "uGZz5OrT1HH-"
      }
    },
    {
      "cell_type": "code",
      "source": [
        "# create a list of all categorical columns\n",
        "cat_cols = ['DayOfWeek','StateHoliday', 'SchoolHoliday', 'StoreType', 'Assortment', 'PromoInterval']\n",
        "\n",
        "plt.figure(figsize=(20, 14))\n",
        "for i, col in enumerate(cat_cols):\n",
        "    plt.subplot(4, 3, i+1)\n",
        "    sns.boxplot(x=col, y='Sales', data=data)\n",
        "    plt.title(f\"Box plot for {col}\")\n",
        "plt.tight_layout()\n",
        "plt.show()\n"
      ],
      "metadata": {
        "id": "1datMfxDfN1C"
      },
      "execution_count": null,
      "outputs": []
    },
    {
      "cell_type": "markdown",
      "source": [
        "### 3. Categorical Encoding"
      ],
      "metadata": {
        "id": "89xtkJwZ18nB"
      }
    },
    {
      "cell_type": "code",
      "source": [
        "# Encode your categorical columns\n",
        "# checking the catagorical attributes \n",
        "data.dtypes"
      ],
      "metadata": {
        "id": "21JmIYMG2hEo"
      },
      "execution_count": null,
      "outputs": []
    },
    {
      "cell_type": "markdown",
      "source": [
        "Clearly we have \"StoreType\", \"Assortment\", \"PromoInterval\" as \"object\".There are different types of categorical encoding techniques such as Label Encoding, One-Hot Encoding, Binary Encoding, etc"
      ],
      "metadata": {
        "id": "W0hHtBZ3lV21"
      }
    },
    {
      "cell_type": "code",
      "source": [
        "#check the type of unique value in catagorical variables\n",
        "# create a list of categorical columns\n",
        "cat_cols = ['Store', 'DayOfWeek', 'Promo', 'StateHoliday', 'SchoolHoliday']\n",
        "# Looping through all columns of object type\n",
        "for col in data.select_dtypes(include='object').columns:\n",
        "    \n",
        "    # Printing unique values and its count\n",
        "    print(f\"Unique values for column '{col}' are: \\n{data[col].unique()}\\n\")\n",
        "    print(f\"Number of unique values for column '{col}' are: {data[col].nunique()}\\n\")\n",
        "\n"
      ],
      "metadata": {
        "id": "dbF33UU_lVLX"
      },
      "execution_count": null,
      "outputs": []
    },
    {
      "cell_type": "code",
      "source": [
        "data[\"StateHoliday\"].replace({\"0\":0, \"a\":1, \"b\":1, \"c\":1},inplace=True)"
      ],
      "metadata": {
        "id": "9_fmHvqQWT8o"
      },
      "execution_count": null,
      "outputs": []
    },
    {
      "cell_type": "code",
      "source": [
        "#Lets create a copy of dataframe\n",
        "data_new=data.copy() "
      ],
      "metadata": {
        "id": "TthkI6BBtezv"
      },
      "execution_count": null,
      "outputs": []
    },
    {
      "cell_type": "code",
      "source": [
        "# Encode your categorical columns by dropping the first category\n",
        "data_new= pd.get_dummies(data, dtype=int, drop_first=True)           #we are dropiing first to get out of dummy variable trap"
      ],
      "metadata": {
        "id": "GfWWf8kTt8MJ"
      },
      "execution_count": null,
      "outputs": []
    },
    {
      "cell_type": "code",
      "source": [
        "# Let's see first five observations of our dataset\n",
        "data_new.head()"
      ],
      "metadata": {
        "id": "TmbWxe7ZvPo8"
      },
      "execution_count": null,
      "outputs": []
    },
    {
      "cell_type": "code",
      "source": [
        "# re checking that everythin looks fine\n",
        "data_new.info()"
      ],
      "metadata": {
        "id": "hgMWU-KGvlyn"
      },
      "execution_count": null,
      "outputs": []
    },
    {
      "cell_type": "markdown",
      "source": [
        "#### What all categorical encoding techniques have you used & why did you use those techniques?"
      ],
      "metadata": {
        "id": "67NQN5KX2AMe"
      }
    },
    {
      "cell_type": "markdown",
      "source": [
        "*  We've used one-Hot encoding technique to trade our specific capabilities of object type into int type with the aid of creating their dummies so that it becomes well suited to feed it into diverse ML algorithms in future.\n",
        "\n",
        "* Due to the fact, we have three to four precise orderless categories in all the express functions (which is less in range). So, it is ideal to use Nominal encoding approach than ordinal."
      ],
      "metadata": {
        "id": "UDaue5h32n_G"
      }
    },
    {
      "cell_type": "markdown",
      "source": [
        "### 4. Textual Data Preprocessing \n",
        "(It's mandatory for textual dataset i.e., NLP, Sentiment Analysis, Text Clustering etc.)"
      ],
      "metadata": {
        "id": "Iwf50b-R2tYG"
      }
    },
    {
      "cell_type": "markdown",
      "source": [
        "#### 1. Expand Contraction"
      ],
      "metadata": {
        "id": "GMQiZwjn3iu7"
      }
    },
    {
      "cell_type": "code",
      "source": [
        "# Expand Contraction\n",
        "## We don't have textual data in any of the feature so it is not needed for our project"
      ],
      "metadata": {
        "id": "PTouz10C3oNN"
      },
      "execution_count": null,
      "outputs": []
    },
    {
      "cell_type": "markdown",
      "source": [
        "#### 2. Lower Casing"
      ],
      "metadata": {
        "id": "WVIkgGqN3qsr"
      }
    },
    {
      "cell_type": "code",
      "source": [
        "# Lower Casing\n",
        "## We don't have Lower Casing in any of the feature so it is not needed for our project"
      ],
      "metadata": {
        "id": "88JnJ1jN3w7j"
      },
      "execution_count": null,
      "outputs": []
    },
    {
      "cell_type": "markdown",
      "source": [
        "#### 3. Removing Punctuations"
      ],
      "metadata": {
        "id": "XkPnILGE3zoT"
      }
    },
    {
      "cell_type": "code",
      "source": [
        "# Remove Punctuations\n",
        "##Not needed"
      ],
      "metadata": {
        "id": "vqbBqNaA33c0"
      },
      "execution_count": null,
      "outputs": []
    },
    {
      "cell_type": "markdown",
      "source": [
        "#### 4. Removing URLs & Removing words and digits contain digits."
      ],
      "metadata": {
        "id": "Hlsf0x5436Go"
      }
    },
    {
      "cell_type": "code",
      "source": [
        "# Remove URLs & Remove words and digits contain digits\n",
        "## not needed"
      ],
      "metadata": {
        "id": "2sxKgKxu4Ip3"
      },
      "execution_count": null,
      "outputs": []
    },
    {
      "cell_type": "markdown",
      "source": [
        "#### 5. Removing Stopwords & Removing White spaces"
      ],
      "metadata": {
        "id": "mT9DMSJo4nBL"
      }
    },
    {
      "cell_type": "code",
      "source": [
        "# Remove Stopwords\n",
        "##no needed"
      ],
      "metadata": {
        "id": "T2LSJh154s8W"
      },
      "execution_count": null,
      "outputs": []
    },
    {
      "cell_type": "code",
      "source": [
        "# Remove White spaces\n",
        "Not needed"
      ],
      "metadata": {
        "id": "EgLJGffy4vm0"
      },
      "execution_count": null,
      "outputs": []
    },
    {
      "cell_type": "markdown",
      "source": [
        "#### 6. Rephrase Text"
      ],
      "metadata": {
        "id": "c49ITxTc407N"
      }
    },
    {
      "cell_type": "code",
      "source": [
        "# Rephrase Text\n",
        "#not needed"
      ],
      "metadata": {
        "id": "foqY80Qu48N2"
      },
      "execution_count": null,
      "outputs": []
    },
    {
      "cell_type": "markdown",
      "source": [
        "#### 7. Tokenization"
      ],
      "metadata": {
        "id": "OeJFEK0N496M"
      }
    },
    {
      "cell_type": "code",
      "source": [
        "# Tokenization\n",
        "## not needeed"
      ],
      "metadata": {
        "id": "ijx1rUOS5CUU"
      },
      "execution_count": null,
      "outputs": []
    },
    {
      "cell_type": "markdown",
      "source": [
        "#### 8. Text Normalization"
      ],
      "metadata": {
        "id": "9ExmJH0g5HBk"
      }
    },
    {
      "cell_type": "code",
      "source": [
        "# Normalizing Text (i.e., Stemming, Lemmatization etc.)\n",
        "##no neede"
      ],
      "metadata": {
        "id": "AIJ1a-Zc5PY8"
      },
      "execution_count": null,
      "outputs": []
    },
    {
      "cell_type": "markdown",
      "source": [
        "##### Which text normalization technique have you used and why?"
      ],
      "metadata": {
        "id": "cJNqERVU536h"
      }
    },
    {
      "cell_type": "markdown",
      "source": [
        "## We don't have textual data in any of the feature so it is not needed for our project"
      ],
      "metadata": {
        "id": "Z9jKVxE06BC1"
      }
    },
    {
      "cell_type": "markdown",
      "source": [
        "#### 9. Part of speech tagging"
      ],
      "metadata": {
        "id": "k5UmGsbsOxih"
      }
    },
    {
      "cell_type": "code",
      "source": [
        "# POS Taging\n",
        "Not needed"
      ],
      "metadata": {
        "id": "btT3ZJBAO6Ik"
      },
      "execution_count": null,
      "outputs": []
    },
    {
      "cell_type": "markdown",
      "source": [
        "#### 10. Text Vectorization"
      ],
      "metadata": {
        "id": "T0VqWOYE6DLQ"
      }
    },
    {
      "cell_type": "code",
      "source": [
        "# Vectorizing \n",
        "## Not neede"
      ],
      "metadata": {
        "id": "yBRtdhth6JDE"
      },
      "execution_count": null,
      "outputs": []
    },
    {
      "cell_type": "markdown",
      "source": [
        "##### Which text vectorization technique have you used and why?"
      ],
      "metadata": {
        "id": "qBMux9mC6MCf"
      }
    },
    {
      "cell_type": "markdown",
      "source": [
        "Answer Here."
      ],
      "metadata": {
        "id": "su2EnbCh6UKQ"
      }
    },
    {
      "cell_type": "markdown",
      "source": [
        "### 4. Feature Manipulation & Selection"
      ],
      "metadata": {
        "id": "-oLEiFgy-5Pf"
      }
    },
    {
      "cell_type": "markdown",
      "source": [
        "#### 1. Feature Manipulation"
      ],
      "metadata": {
        "id": "C74aWNz2AliB"
      }
    },
    {
      "cell_type": "code",
      "source": [
        "# Manipulate Features to minimize feature correlation and create new features\n",
        "data_new.head(5)"
      ],
      "metadata": {
        "id": "h1qC4yhBApWC"
      },
      "execution_count": null,
      "outputs": []
    },
    {
      "cell_type": "code",
      "source": [
        "#In feature manupulation we can extract day date year from date columns.\n",
        "# Extracting date, month and year from Date feature\n",
        "data_new[\"Day\"]= data_new[\"Date\"].dt.day\n",
        "data_new[\"Month\"]= data_new[\"Date\"].dt.month\n",
        "data_new[\"Year\"]= data_new[\"Date\"].dt.year\n"
      ],
      "metadata": {
        "id": "ELI8-4241RjE"
      },
      "execution_count": null,
      "outputs": []
    },
    {
      "cell_type": "code",
      "source": [
        "# Dropping \"Open\" from our dataset\n",
        "data_new.drop(columns=[\"Open\"], inplace=True)"
      ],
      "metadata": {
        "id": "_V6TVLl_2zpK"
      },
      "execution_count": null,
      "outputs": []
    },
    {
      "cell_type": "code",
      "source": [
        "data_new.info()"
      ],
      "metadata": {
        "id": "GK1_rpDJ4NKX"
      },
      "execution_count": null,
      "outputs": []
    },
    {
      "cell_type": "markdown",
      "source": [
        "#### 2. Feature Selection"
      ],
      "metadata": {
        "id": "2DejudWSA-a0"
      }
    },
    {
      "cell_type": "markdown",
      "source": [
        "Correlation analysis: the correlation between each feature and the target variable (Sales) and select the features with the highest correlation coefficients. "
      ],
      "metadata": {
        "id": "6wdi513N4lbE"
      }
    },
    {
      "cell_type": "code",
      "source": [
        "# Loop through the numerical columns in the DataFrame\n",
        "for col in data_new.describe().columns.tolist():\n",
        "    # Calculate the correlation between the feature and the target variable\n",
        "    correlation = data_new[col].corr(data_new['Sales'])\n",
        "    \n",
        "    # Create a scatter plot of the feature against the target variable\n",
        "    fig, ax = plt.subplots(figsize=(9, 6))\n",
        "    sns.scatterplot(x=col, y='Sales', data=data_new, color='blue')\n",
        "    ax.set_xlabel(col)\n",
        "    ax.set_ylabel('Sales')\n",
        "    ax.set_title('Sales vs ' + col + '- correlation: ' + str(correlation))\n",
        "    \n",
        "    # Add a regression line to the plot\n",
        "    z = np.polyfit(data_new[col], data_new['Sales'], 1)\n",
        "    y_hat = np.poly1d(z)(data_new[col])\n",
        "    plt.plot(data_new[col], y_hat, \"r--\", lw=1)\n",
        "    \n",
        "    plt.show()\n"
      ],
      "metadata": {
        "id": "AJdnDM7X6Fhe"
      },
      "execution_count": null,
      "outputs": []
    },
    {
      "cell_type": "code",
      "source": [
        "# Select your features wisely to avoid overfitting\n",
        "fig, ax = plt.subplots(figsize=(12,8))\n",
        "sns.heatmap(data_new.corr(),annot=True)\n",
        "plt.title(\"Correlation of the Columns\",color='green')"
      ],
      "metadata": {
        "id": "YLhe8UmaBCEE"
      },
      "execution_count": null,
      "outputs": []
    },
    {
      "cell_type": "markdown",
      "source": [
        "\n",
        "Let's consist of only the ones functions in our very last dataframe which might be rather impacting on the dependent variable i.e sales. For this we are using Variance Inflation thing technique to determine multicolinearity.There are Lots of columns which can overfitt our model so lets check and remove them"
      ],
      "metadata": {
        "id": "NzcpT6s1--P2"
      }
    },
    {
      "cell_type": "code",
      "source": [
        "from statsmodels.stats.outliers_influence import variance_inflation_factor\n",
        "\n",
        "def calc_vif(X):\n",
        "    # Create a new DataFrame to store the VIF values\n",
        "    vif = pd.DataFrame(columns=['variables', 'VIF'])\n",
        "\n",
        "    # Calculate VIF for each feature\n",
        "    for i in range(X.shape[1]):\n",
        "        vif.loc[i] = [X.columns[i], variance_inflation_factor(X.values, i)]\n",
        "\n",
        "    return vif\n",
        "\n"
      ],
      "metadata": {
        "id": "H1HGgMDUA6DB"
      },
      "execution_count": null,
      "outputs": []
    },
    {
      "cell_type": "markdown",
      "source": [
        "Calculating the vif for the variables except \n",
        "* Sales because its an target variable.\n",
        "\n",
        "* Store as it is not indicating anything\n",
        "\n",
        "* Open as it habeen removed from dataset.\n",
        "\n",
        "* Month & Year as they have been extracted from date column."
      ],
      "metadata": {
        "id": "Hh8JJsx-XG99"
      }
    },
    {
      "cell_type": "code",
      "source": [
        "calc_vif(data_new[[i for i in data_new.describe().columns if i not in [\"Store\", \"Sales\", \"Open\"]]])"
      ],
      "metadata": {
        "id": "2YCF68xHCSNP"
      },
      "execution_count": null,
      "outputs": []
    },
    {
      "cell_type": "code",
      "source": [
        "calc_vif(data_new[[i for i in data_new.describe().columns if i not in [\"Store\", \"Sales\",\"Open\", \"Promo2SinceWeek\", \"Promo2SinceYear\", \"CompetitionOpenSinceMonth\", \"CompetitionOpenSinceYear\", \"PromoInterval_Jan,Apr,Jul,Oct\",\"Year\",'Assortment_b',\"Month\",\"Week\"]]])"
      ],
      "metadata": {
        "id": "hAbxr7GmM_re"
      },
      "execution_count": null,
      "outputs": []
    },
    {
      "cell_type": "code",
      "source": [
        "# New Dataframe which will be our final dataframe\n",
        "final_df = data_new[[\"DayOfWeek\", \"Customers\",\"Promo\",\"StateHoliday\",\"SchoolHoliday\",\"CompetitionDistance\",\"Promo2\",\"StoreType_b\",\"StoreType_c\",\"StoreType_d\",\"Assortment_c\",\"PromoInterval_Feb,May,Aug,Nov\",\"PromoInterval_Mar,Jun,Sept,Dec\",\"Day\",\"Sales\"]]"
      ],
      "metadata": {
        "id": "Kz6u241sMGHU"
      },
      "execution_count": null,
      "outputs": []
    },
    {
      "cell_type": "code",
      "source": [
        "#know your final datset\n",
        "final_df.info()"
      ],
      "metadata": {
        "id": "MDLEO5_XMxfI"
      },
      "execution_count": null,
      "outputs": []
    },
    {
      "cell_type": "markdown",
      "source": [
        "##### What all feature selection methods have you used  and why?"
      ],
      "metadata": {
        "id": "pEMng2IbBLp7"
      }
    },
    {
      "cell_type": "markdown",
      "source": [
        "Correlation-based feature selection: This method involves selecting features that are highly correlated with the target variable but have low inter-correlation among themselves."
      ],
      "metadata": {
        "id": "rb2Lh6Z8BgGs"
      }
    },
    {
      "cell_type": "markdown",
      "source": [
        "##### Which all features you found important and why?"
      ],
      "metadata": {
        "id": "rAdphbQ9Bhjc"
      }
    },
    {
      "cell_type": "markdown",
      "source": [
        "DayOfWeek\t\n",
        "Customer\n",
        "Promo\t\n",
        "StateHoliday\t\n",
        "\tSchoolHoliday\t\n",
        "\tCompetitionDistance\t\n",
        "\tPromo2\t\n",
        "\tStoreType_b\t\n",
        "\tStoreType_c\t\n",
        "\tStoreType_d\t\n",
        "\tAssortment_b\n",
        "\tAssortment_c\n",
        "\tPromoInterval_Feb,May,Aug,Nov1\n",
        "\tPromoInterval_Mar,Jun,Sept,Dec"
      ],
      "metadata": {
        "id": "fGgaEstsBnaf"
      }
    },
    {
      "cell_type": "markdown",
      "source": [
        "### 5. Data Transformation"
      ],
      "metadata": {
        "id": "TNVZ9zx19K6k"
      }
    },
    {
      "cell_type": "markdown",
      "source": [
        "#### Do you think that your data needs to be transformed? If yes, which transformation have you used. Explain Why?"
      ],
      "metadata": {
        "id": "nqoHp30x9hH9"
      }
    },
    {
      "cell_type": "code",
      "source": [
        "# checking which of the variables are continous in nature\n",
        "for i in final_df.columns:\n",
        "  print(f\"The number of unique counts in feature {i} is: {final_df[i].nunique()}\")"
      ],
      "metadata": {
        "id": "iZt-MgIgNS4T"
      },
      "execution_count": null,
      "outputs": []
    },
    {
      "cell_type": "code",
      "source": [
        "# Create subplots\n",
        "import matplotlib.pyplot as plt\n",
        "\n",
        "# Create subplots\n",
        "fig, axs = plt.subplots(1, 3, figsize=(12, 4))\n",
        "\n",
        "# Original data histograms\n",
        "cols_to_plot = ['Sales', 'Customers', 'CompetitionDistance']\n",
        "for i, col in enumerate(cols_to_plot):\n",
        "    axs[i].hist(final_df[col], bins=50)\n",
        "    axs[i].set_title(f'{col} Histogram (Original)')\n",
        "\n",
        "# Adjust layout and show plot\n",
        "plt.tight_layout()\n",
        "plt.show()\n"
      ],
      "metadata": {
        "id": "haG-auFdRuEG"
      },
      "execution_count": null,
      "outputs": []
    },
    {
      "cell_type": "markdown",
      "source": [
        "* Sales: The histogram of sales appears to be heavily right-skewed, with a long tail of high sales values. This suggests that there may be some very high sales values that could be considered outliers.\n",
        "\n",
        "* Customers: The histogram of customers also appears to be heavily right-skewed, with a similar long tail of high customer counts. This suggests that there may be some stores that attract a very high number of customers.\n",
        "\n",
        "* CompetitionDistance: The histogram of competition distance appears to be roughly bell-shaped, with a peak around 0-2000 meters and a long tail of stores with competition distances greater than 2000 meters\n",
        "\n",
        "Hence i can use either logorithm or Exponential algorithnm"
      ],
      "metadata": {
        "id": "tdVGalbqTY9l"
      }
    },
    {
      "cell_type": "code",
      "source": [
        "# Applying transformation on the above considered columns\n",
        "## Exponential Transformation\n",
        "final_df['Sales']=(final_df['Sales'])**(1/1.2)\n",
        "final_df['Customers']=(final_df['Customers'])**(1/1.2)\n",
        "final_df['CompetitionDistance']=(final_df['Customers'])**(1/1.2)"
      ],
      "metadata": {
        "id": "vP9Fp_CfWdkM"
      },
      "execution_count": null,
      "outputs": []
    },
    {
      "cell_type": "markdown",
      "source": [
        "### 6. Data Scaling"
      ],
      "metadata": {
        "id": "rMDnDkt2B6du"
      }
    },
    {
      "cell_type": "code",
      "source": [
        "# Scaling your data"
      ],
      "metadata": {
        "id": "dL9LWpySC6x_"
      },
      "execution_count": null,
      "outputs": []
    },
    {
      "cell_type": "markdown",
      "source": [
        "##### Which method have you used to scale you data and why?"
      ],
      "metadata": {
        "id": "yiiVWRdJDDil"
      }
    },
    {
      "cell_type": "markdown",
      "source": [
        "### 7. Dimesionality Reduction"
      ],
      "metadata": {
        "id": "1UUpS68QDMuG"
      }
    },
    {
      "cell_type": "markdown",
      "source": [
        "##### Do you think that dimensionality reduction is needed? Explain Why?"
      ],
      "metadata": {
        "id": "kexQrXU-DjzY"
      }
    },
    {
      "cell_type": "markdown",
      "source": [
        "Answer Here."
      ],
      "metadata": {
        "id": "GGRlBsSGDtTQ"
      }
    },
    {
      "cell_type": "code",
      "source": [
        "# DImensionality Reduction (If needed)"
      ],
      "metadata": {
        "id": "kQfvxBBHDvCa"
      },
      "execution_count": null,
      "outputs": []
    },
    {
      "cell_type": "markdown",
      "source": [
        "##### Which dimensionality reduction technique have you used and why? (If dimensionality reduction done on dataset.)"
      ],
      "metadata": {
        "id": "T5CmagL3EC8N"
      }
    },
    {
      "cell_type": "markdown",
      "source": [
        "Answer Here."
      ],
      "metadata": {
        "id": "ZKr75IDuEM7t"
      }
    },
    {
      "cell_type": "markdown",
      "source": [
        "### 8. Data Splitting"
      ],
      "metadata": {
        "id": "BhH2vgX9EjGr"
      }
    },
    {
      "cell_type": "code",
      "source": [
        "# Split your data to train and test. Choose Splitting ratio wisely."
      ],
      "metadata": {
        "id": "0CTyd2UwEyNM"
      },
      "execution_count": null,
      "outputs": []
    },
    {
      "cell_type": "markdown",
      "source": [
        "##### What data splitting ratio have you used and why? "
      ],
      "metadata": {
        "id": "qjKvONjwE8ra"
      }
    },
    {
      "cell_type": "markdown",
      "source": [
        "Answer Here."
      ],
      "metadata": {
        "id": "Y2lJ8cobFDb_"
      }
    },
    {
      "cell_type": "markdown",
      "source": [
        "### 9. Handling Imbalanced Dataset"
      ],
      "metadata": {
        "id": "P1XJ9OREExlT"
      }
    },
    {
      "cell_type": "markdown",
      "source": [
        "##### Do you think the dataset is imbalanced? Explain Why."
      ],
      "metadata": {
        "id": "VFOzZv6IFROw"
      }
    },
    {
      "cell_type": "markdown",
      "source": [
        "Answer Here."
      ],
      "metadata": {
        "id": "GeKDIv7pFgcC"
      }
    },
    {
      "cell_type": "code",
      "source": [
        "# Handling Imbalanced Dataset (If needed)"
      ],
      "metadata": {
        "id": "nQsRhhZLFiDs"
      },
      "execution_count": null,
      "outputs": []
    },
    {
      "cell_type": "markdown",
      "source": [
        "##### What technique did you use to handle the imbalance dataset and why? (If needed to be balanced)"
      ],
      "metadata": {
        "id": "TIqpNgepFxVj"
      }
    },
    {
      "cell_type": "markdown",
      "source": [
        "Answer Here."
      ],
      "metadata": {
        "id": "qbet1HwdGDTz"
      }
    },
    {
      "cell_type": "markdown",
      "source": [
        "## ***7. ML Model Implementation***"
      ],
      "metadata": {
        "id": "VfCC591jGiD4"
      }
    },
    {
      "cell_type": "markdown",
      "source": [
        "### ML Model - 1"
      ],
      "metadata": {
        "id": "OB4l2ZhMeS1U"
      }
    },
    {
      "cell_type": "code",
      "source": [
        "# ML Model - 1 Implementation\n",
        "\n",
        "# Fit the Algorithm\n",
        "\n",
        "# Predict on the model"
      ],
      "metadata": {
        "id": "7ebyywQieS1U"
      },
      "execution_count": null,
      "outputs": []
    },
    {
      "cell_type": "markdown",
      "source": [
        "#### 1. Explain the ML Model used and it's performance using Evaluation metric Score Chart."
      ],
      "metadata": {
        "id": "ArJBuiUVfxKd"
      }
    },
    {
      "cell_type": "code",
      "source": [
        "# Visualizing evaluation Metric Score chart"
      ],
      "metadata": {
        "id": "rqD5ZohzfxKe"
      },
      "execution_count": null,
      "outputs": []
    },
    {
      "cell_type": "markdown",
      "source": [
        "#### 2. Cross- Validation & Hyperparameter Tuning"
      ],
      "metadata": {
        "id": "4qY1EAkEfxKe"
      }
    },
    {
      "cell_type": "code",
      "source": [
        "# ML Model - 1 Implementation with hyperparameter optimization techniques (i.e., GridSearch CV, RandomSearch CV, Bayesian Optimization etc.)\n",
        "\n",
        "# Fit the Algorithm\n",
        "\n",
        "# Predict on the model"
      ],
      "metadata": {
        "id": "Dy61ujd6fxKe"
      },
      "execution_count": null,
      "outputs": []
    },
    {
      "cell_type": "markdown",
      "source": [
        "##### Which hyperparameter optimization technique have you used and why?"
      ],
      "metadata": {
        "id": "PiV4Ypx8fxKe"
      }
    },
    {
      "cell_type": "markdown",
      "source": [
        "Answer Here."
      ],
      "metadata": {
        "id": "negyGRa7fxKf"
      }
    },
    {
      "cell_type": "markdown",
      "source": [
        "##### Have you seen any improvement? Note down the improvement with updates Evaluation metric Score Chart."
      ],
      "metadata": {
        "id": "TfvqoZmBfxKf"
      }
    },
    {
      "cell_type": "markdown",
      "source": [
        "Answer Here."
      ],
      "metadata": {
        "id": "OaLui8CcfxKf"
      }
    },
    {
      "cell_type": "markdown",
      "source": [
        "### ML Model - 2"
      ],
      "metadata": {
        "id": "dJ2tPlVmpsJ0"
      }
    },
    {
      "cell_type": "markdown",
      "source": [
        "#### 1. Explain the ML Model used and it's performance using Evaluation metric Score Chart."
      ],
      "metadata": {
        "id": "JWYfwnehpsJ1"
      }
    },
    {
      "cell_type": "code",
      "source": [
        "# Visualizing evaluation Metric Score chart"
      ],
      "metadata": {
        "id": "yEl-hgQWpsJ1"
      },
      "execution_count": null,
      "outputs": []
    },
    {
      "cell_type": "markdown",
      "source": [
        "#### 2. Cross- Validation & Hyperparameter Tuning"
      ],
      "metadata": {
        "id": "-jK_YjpMpsJ2"
      }
    },
    {
      "cell_type": "code",
      "source": [
        "# ML Model - 1 Implementation with hyperparameter optimization techniques (i.e., GridSearch CV, RandomSearch CV, Bayesian Optimization etc.)\n",
        "\n",
        "# Fit the Algorithm\n",
        "\n",
        "# Predict on the model"
      ],
      "metadata": {
        "id": "Dn0EOfS6psJ2"
      },
      "execution_count": null,
      "outputs": []
    },
    {
      "cell_type": "markdown",
      "source": [
        "##### Which hyperparameter optimization technique have you used and why?"
      ],
      "metadata": {
        "id": "HAih1iBOpsJ2"
      }
    },
    {
      "cell_type": "markdown",
      "source": [
        "Answer Here."
      ],
      "metadata": {
        "id": "9kBgjYcdpsJ2"
      }
    },
    {
      "cell_type": "markdown",
      "source": [
        "##### Have you seen any improvement? Note down the improvement with updates Evaluation metric Score Chart."
      ],
      "metadata": {
        "id": "zVGeBEFhpsJ2"
      }
    },
    {
      "cell_type": "markdown",
      "source": [
        "Answer Here."
      ],
      "metadata": {
        "id": "74yRdG6UpsJ3"
      }
    },
    {
      "cell_type": "markdown",
      "source": [
        "#### 3. Explain each evaluation metric's indication towards business and the business impact pf the ML model used."
      ],
      "metadata": {
        "id": "bmKjuQ-FpsJ3"
      }
    },
    {
      "cell_type": "markdown",
      "source": [
        "Answer Here."
      ],
      "metadata": {
        "id": "BDKtOrBQpsJ3"
      }
    },
    {
      "cell_type": "markdown",
      "source": [
        "### ML Model - 3"
      ],
      "metadata": {
        "id": "Fze-IPXLpx6K"
      }
    },
    {
      "cell_type": "code",
      "source": [
        "# ML Model - 3 Implementation\n",
        "\n",
        "# Fit the Algorithm\n",
        "\n",
        "# Predict on the model"
      ],
      "metadata": {
        "id": "FFrSXAtrpx6M"
      },
      "execution_count": null,
      "outputs": []
    },
    {
      "cell_type": "markdown",
      "source": [
        "#### 1. Explain the ML Model used and it's performance using Evaluation metric Score Chart."
      ],
      "metadata": {
        "id": "7AN1z2sKpx6M"
      }
    },
    {
      "cell_type": "code",
      "source": [
        "# Visualizing evaluation Metric Score chart"
      ],
      "metadata": {
        "id": "xIY4lxxGpx6M"
      },
      "execution_count": null,
      "outputs": []
    },
    {
      "cell_type": "markdown",
      "source": [
        "#### 2. Cross- Validation & Hyperparameter Tuning"
      ],
      "metadata": {
        "id": "9PIHJqyupx6M"
      }
    },
    {
      "cell_type": "code",
      "source": [
        "# ML Model - 3 Implementation with hyperparameter optimization techniques (i.e., GridSearch CV, RandomSearch CV, Bayesian Optimization etc.)\n",
        "\n",
        "# Fit the Algorithm\n",
        "\n",
        "# Predict on the model"
      ],
      "metadata": {
        "id": "eSVXuaSKpx6M"
      },
      "execution_count": null,
      "outputs": []
    },
    {
      "cell_type": "markdown",
      "source": [
        "##### Which hyperparameter optimization technique have you used and why?"
      ],
      "metadata": {
        "id": "_-qAgymDpx6N"
      }
    },
    {
      "cell_type": "markdown",
      "source": [
        "Answer Here."
      ],
      "metadata": {
        "id": "lQMffxkwpx6N"
      }
    },
    {
      "cell_type": "markdown",
      "source": [
        "##### Have you seen any improvement? Note down the improvement with updates Evaluation metric Score Chart."
      ],
      "metadata": {
        "id": "Z-hykwinpx6N"
      }
    },
    {
      "cell_type": "markdown",
      "source": [
        "Answer Here."
      ],
      "metadata": {
        "id": "MzVzZC6opx6N"
      }
    },
    {
      "cell_type": "markdown",
      "source": [
        "### 1. Which Evaluation metrics did you consider for a positive business impact and why?"
      ],
      "metadata": {
        "id": "h_CCil-SKHpo"
      }
    },
    {
      "cell_type": "markdown",
      "source": [
        "Answer Here."
      ],
      "metadata": {
        "id": "jHVz9hHDKFms"
      }
    },
    {
      "cell_type": "markdown",
      "source": [
        "### 2. Which ML model did you choose from the above created models as your final prediction model and why?"
      ],
      "metadata": {
        "id": "cBFFvTBNJzUa"
      }
    },
    {
      "cell_type": "markdown",
      "source": [
        "Answer Here."
      ],
      "metadata": {
        "id": "6ksF5Q1LKTVm"
      }
    },
    {
      "cell_type": "markdown",
      "source": [
        "### 3. Explain the model which you have used and the feature importance using any model explainability tool?"
      ],
      "metadata": {
        "id": "HvGl1hHyA_VK"
      }
    },
    {
      "cell_type": "markdown",
      "source": [
        "Answer Here."
      ],
      "metadata": {
        "id": "YnvVTiIxBL-C"
      }
    },
    {
      "cell_type": "markdown",
      "source": [
        "## ***8.*** ***Future Work (Optional)***"
      ],
      "metadata": {
        "id": "EyNgTHvd2WFk"
      }
    },
    {
      "cell_type": "markdown",
      "source": [
        "### 1. Save the best performing ml model in a pickle file or joblib file format for deployment process.\n"
      ],
      "metadata": {
        "id": "KH5McJBi2d8v"
      }
    },
    {
      "cell_type": "code",
      "source": [
        "# Save the File"
      ],
      "metadata": {
        "id": "bQIANRl32f4J"
      },
      "execution_count": null,
      "outputs": []
    },
    {
      "cell_type": "markdown",
      "source": [
        "### 2. Again Load the saved model file and try to predict unseen data for a sanity check.\n"
      ],
      "metadata": {
        "id": "iW_Lq9qf2h6X"
      }
    },
    {
      "cell_type": "code",
      "source": [
        "# Load the File and predict unseen data."
      ],
      "metadata": {
        "id": "oEXk9ydD2nVC"
      },
      "execution_count": null,
      "outputs": []
    },
    {
      "cell_type": "markdown",
      "source": [
        "### ***Congrats! Your model is successfully created and ready for deployment on a live server for a real user interaction !!!***"
      ],
      "metadata": {
        "id": "-Kee-DAl2viO"
      }
    },
    {
      "cell_type": "markdown",
      "source": [
        "# **Conclusion**"
      ],
      "metadata": {
        "id": "gCX9965dhzqZ"
      }
    },
    {
      "cell_type": "markdown",
      "source": [
        "Write the conclusion here."
      ],
      "metadata": {
        "id": "Fjb1IsQkh3yE"
      }
    },
    {
      "cell_type": "markdown",
      "source": [
        "### ***Hurrah! You have successfully completed your Machine Learning Capstone Project !!!***"
      ],
      "metadata": {
        "id": "gIfDvo9L0UH2"
      }
    },
    {
      "cell_type": "code",
      "source": [
        "test_df3=final_df.copy()"
      ],
      "metadata": {
        "id": "mPl-atmPZ6eM"
      },
      "execution_count": null,
      "outputs": []
    },
    {
      "cell_type": "code",
      "source": [
        "# Applying transformation on the above considered columns\n",
        "test_df3['Sales']=(test_df3['Sales'])**(1/2)\n",
        "test_df3['Customers']=(test_df3['Customers'])**(1/2)\n",
        "test_df3['CompetitionDistance']=(test_df3['CompetitionDistance'])**(1/2)"
      ],
      "metadata": {
        "id": "DNRbFA-pWl0a"
      },
      "execution_count": null,
      "outputs": []
    },
    {
      "cell_type": "code",
      "source": [
        "test_df4=final_df.copy()"
      ],
      "metadata": {
        "id": "Fn17L4hFaT9A"
      },
      "execution_count": null,
      "outputs": []
    },
    {
      "cell_type": "code",
      "source": [
        "# Applying transformation on the above considered columns\n",
        "test_df4['Sales']=(test_df4['Sales'])**(1/1.2)\n",
        "test_df4['Customers']=(test_df4['Customers'])**(1/1.2)\n",
        "test_df4['CompetitionDistance']=(test_df4['CompetitionDistance'])**(1/1.2)"
      ],
      "metadata": {
        "id": "fdujZUHvPTJ4"
      },
      "execution_count": null,
      "outputs": []
    }
  ]
}